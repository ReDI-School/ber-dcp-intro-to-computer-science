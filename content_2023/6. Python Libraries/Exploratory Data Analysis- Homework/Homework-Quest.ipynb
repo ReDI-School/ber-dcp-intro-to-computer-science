{
 "cells": [
  {
   "cell_type": "markdown",
   "id": "17155594-aabe-4672-81c8-ee63be37a93c",
   "metadata": {},
   "source": [
    "## Homework - Python Libraries"
   ]
  },
  {
   "cell_type": "markdown",
   "id": "a8f96764-654c-4c67-9341-df1ac0623eac",
   "metadata": {},
   "source": [
    "### Display the data"
   ]
  },
  {
   "cell_type": "code",
   "execution_count": 1,
   "id": "02722afb-f220-43e5-9b0b-4c51aab231c4",
   "metadata": {},
   "outputs": [],
   "source": [
    "#1. import libraries: pandas, numpy, matplotlib.pyplot and seaborn"
   ]
  },
  {
   "cell_type": "code",
   "execution_count": 2,
   "id": "677fc730-c01b-474c-8a80-9032071304af",
   "metadata": {},
   "outputs": [],
   "source": [
    "#2. Read the csv file and convert to a Pandas Dataframe assinged as \"df\"\n",
    "data_path= \"https://raw.githubusercontent.com/siglimumuni/Datasets/master/customer-data.csv\""
   ]
  },
  {
   "cell_type": "code",
   "execution_count": 3,
   "id": "57f16090-df84-45d1-bcaf-08c60e54a3bc",
   "metadata": {},
   "outputs": [],
   "source": [
    "#3. Return number of columns and rows in df"
   ]
  },
  {
   "cell_type": "code",
   "execution_count": 4,
   "id": "6a1004b3-d795-4748-b4a3-e20c3920662d",
   "metadata": {},
   "outputs": [],
   "source": [
    "#4. Return the names of the columns of df"
   ]
  },
  {
   "cell_type": "code",
   "execution_count": 5,
   "id": "b78db9f7-c39b-4545-9164-3bf2dfaf6958",
   "metadata": {},
   "outputs": [],
   "source": [
    "#5. Return the first and last 5 rows of df"
   ]
  },
  {
   "cell_type": "code",
   "execution_count": 6,
   "id": "0a7ab439-7566-48d1-9910-e67209d478ef",
   "metadata": {},
   "outputs": [],
   "source": [
    "#6. Return the names of the columns with their data types and number of non-null values using info()"
   ]
  },
  {
   "cell_type": "code",
   "execution_count": 7,
   "id": "6a964d01-0ac8-419e-b953-6660c3d7692b",
   "metadata": {},
   "outputs": [],
   "source": [
    "#7. Return the details of df -skip this quest"
   ]
  },
  {
   "cell_type": "code",
   "execution_count": 8,
   "id": "e684491e-b5f8-45da-97a1-e2b33982467f",
   "metadata": {},
   "outputs": [],
   "source": [
    "#8. Return summary statistic for the \"credit_score\" column"
   ]
  },
  {
   "cell_type": "code",
   "execution_count": 9,
   "id": "9624bf68-210e-4974-9b93-b76d7caf17da",
   "metadata": {},
   "outputs": [],
   "source": [
    "#9. Update the name of a column called \"postal_code\" as \"postcode\""
   ]
  },
  {
   "cell_type": "code",
   "execution_count": 10,
   "id": "9d2c430d-4c59-4254-807f-e774ed25691c",
   "metadata": {},
   "outputs": [],
   "source": [
    "#10. Save df as csv file in your repository"
   ]
  },
  {
   "cell_type": "markdown",
   "id": "3c18d7a2-c072-4a8d-835c-9387b4f86ebc",
   "metadata": {},
   "source": [
    "### Prepare Data\n",
    "Before any analysis you should check the dataset for missing or null values. isna() method checks if the field is null and return as True or False. Grouping nulls per column, you can use sum() method."
   ]
  },
  {
   "cell_type": "code",
   "execution_count": 11,
   "id": "a0bebcc0-081d-42f5-8771-9d54171b7194",
   "metadata": {},
   "outputs": [],
   "source": [
    "#11. Display the number of missing values per column \n",
    "#hint: df.isna().sum()"
   ]
  },
  {
   "cell_type": "markdown",
   "id": "3111b0d4-6658-4f5e-aec9-5ee34b7914be",
   "metadata": {},
   "source": [
    "Once you know the nulls in your dataset, you have two options either exclude those rows from your analysis or replace missing values with new value."
   ]
  },
  {
   "cell_type": "code",
   "execution_count": 12,
   "id": "f05c2ed7-d3d6-4dfc-b69b-cc9fbdd765b5",
   "metadata": {},
   "outputs": [],
   "source": [
    "#12. Delete the rows that contains null field. \n",
    "#Hint: dropna()"
   ]
  },
  {
   "cell_type": "markdown",
   "id": "83b57ae1-2711-47d8-8e0d-43aa6cc190f5",
   "metadata": {},
   "source": [
    "One of the simplest methods is by replacing the null values in each column with the column mean or mode. "
   ]
  },
  {
   "cell_type": "code",
   "execution_count": 16,
   "id": "82e068d9-0e24-4873-9ceb-2500ec35574c",
   "metadata": {},
   "outputs": [],
   "source": [
    "#Do this task after next lesson, there you will learn how to group data by another column\n",
    "#13. Run above codes skipping number 9, and instead of deletion, for each null field in credit_score replace with average credit_score per income category\n",
    "#Create a function to impute missing values based on mean credit score for each income group"
   ]
  },
  {
   "cell_type": "code",
   "execution_count": 17,
   "id": "d1fa3c7a-8125-4321-9cc8-2a5ee4c0959a",
   "metadata": {},
   "outputs": [],
   "source": [
    "#14. Create a new df called df1 with first 6 columns, and df2 with the rest of columns"
   ]
  },
  {
   "cell_type": "code",
   "execution_count": 18,
   "id": "b5e395f4-565a-49e4-b186-84f0a652a24c",
   "metadata": {},
   "outputs": [],
   "source": [
    "#15. Drop column annual_mileage from df2"
   ]
  },
  {
   "cell_type": "code",
   "execution_count": 19,
   "id": "3be6b2ec-0403-49e8-98a8-74aad676ff8f",
   "metadata": {},
   "outputs": [],
   "source": [
    "#16. Create subset df called subset_df for female who has working class income and has credit score above 0.45"
   ]
  },
  {
   "cell_type": "markdown",
   "id": "5802911d-a020-4619-b20e-9b0c2dde61c5",
   "metadata": {},
   "source": [
    "### Visualization\n",
    "Use \"df\" dataframe for the below visualization"
   ]
  },
  {
   "cell_type": "code",
   "execution_count": 20,
   "id": "606a062c-123e-4c46-aab2-ddda6e4d9dc2",
   "metadata": {},
   "outputs": [],
   "source": [
    "#16. Create a countplot to visualize the count of each category in the gender column. Use seaborn countplot() method"
   ]
  },
  {
   "cell_type": "code",
   "execution_count": 21,
   "id": "8700d760-0874-47c2-a485-e7cf826a22c6",
   "metadata": {},
   "outputs": [],
   "source": [
    "#17. Create a pie chart that shows number of rows by income group if you can show in chart the ratio not the total number of rows.  Give a name to the chart, play with figure size and use nice color pallette"
   ]
  },
  {
   "cell_type": "code",
   "execution_count": 22,
   "id": "76bffb41-c055-46dd-aef6-46889dec511b",
   "metadata": {},
   "outputs": [],
   "source": [
    "#18. Create chart to visualize the count of each category in education column. Use seaborn countplot"
   ]
  },
  {
   "cell_type": "code",
   "execution_count": null,
   "id": "8b83af68-7b96-4579-ba08-3550a12c6025",
   "metadata": {},
   "outputs": [],
   "source": [
    "#18b. Create a chart visualize Average Credit Score per Education Level. Use seaborn barplot"
   ]
  },
  {
   "cell_type": "code",
   "execution_count": 23,
   "id": "caa58d21-d8eb-496c-9551-7cd96f51db5a",
   "metadata": {},
   "outputs": [],
   "source": [
    "#19. Create a histogram for annual_mileage column , set bins to 20, give a name to the chart and to the y label. Use seaborn histplot()"
   ]
  },
  {
   "cell_type": "code",
   "execution_count": 24,
   "id": "59ee0eff-2f04-4293-9268-f4233eeac13c",
   "metadata": {},
   "outputs": [],
   "source": [
    "#20. Create a scatter plot to show relation between \"annual_mileage\" and \"speeding_violations\". Use scatter from matplotlib"
   ]
  },
  {
   "cell_type": "code",
   "execution_count": 25,
   "id": "c0408988-b946-441e-ad49-afb148717f1b",
   "metadata": {},
   "outputs": [],
   "source": [
    "#21. Create a boxplot for credit_score per education level. And compare dispersion. Use seaborn boxplot. Repeat it with different columns; select one categorical one numerical column. eg. credit score vs income"
   ]
  },
  {
   "cell_type": "code",
   "execution_count": 26,
   "id": "4a00cf61-a9df-442b-993a-7551cee58858",
   "metadata": {},
   "outputs": [],
   "source": [
    "#22. Create a histogram for credit score per outcome. Use seaborn histplot Hint: x=\"credit_score\", hue=\"outcome\" , element=\"step\", stat=\"density\""
   ]
  },
  {
   "cell_type": "code",
   "execution_count": 27,
   "id": "1abee5b6-0bc4-4c1c-a8f5-993ed3f21c73",
   "metadata": {},
   "outputs": [],
   "source": [
    "#Bonus\n",
    "#Create 2 subplots one for education one for income categories and both shows average credit_score. Use for loop to iterate education and income columns."
   ]
  },
  {
   "cell_type": "code",
   "execution_count": null,
   "id": "a088dc3f-5753-4144-924a-e99ea2a24bf0",
   "metadata": {},
   "outputs": [],
   "source": [
    "#you can try any other plot with any column you wish for visualization"
   ]
  }
 ],
 "metadata": {
  "kernelspec": {
   "display_name": "Python 3 (ipykernel)",
   "language": "python",
   "name": "python3"
  },
  "language_info": {
   "codemirror_mode": {
    "name": "ipython",
    "version": 3
   },
   "file_extension": ".py",
   "mimetype": "text/x-python",
   "name": "python",
   "nbconvert_exporter": "python",
   "pygments_lexer": "ipython3",
   "version": "3.9.7"
  }
 },
 "nbformat": 4,
 "nbformat_minor": 5
}
