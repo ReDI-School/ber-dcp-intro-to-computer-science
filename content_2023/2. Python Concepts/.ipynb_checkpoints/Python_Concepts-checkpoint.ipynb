{
  "cells": [
    {
      "cell_type": "markdown",
      "source": [
        "# 1. Python Concepts - Sharing & Synthesizing\n",
        "We will go over many of these concepts in more detail in the coming weeks, so no problem if it takes a little time for them to make sense!\n",
        "\n",
        "One note about the code snippets below: in Python, we can write comments by using the # symbol; anything after this symbol is not interpreted as code or executed. This can be a really convenient way to write notes to yourselves (or future developers!) when trying to understand code you wrote.\n",
        "\n",
        "What observations did you have from the exercise?"
      ],
      "metadata": {
        "id": "jGwVgA_7fec6"
      },
      "id": "jGwVgA_7fec6"
    },
    {
      "cell_type": "markdown",
      "source": [
        "## Data Types\n",
        "What is a data type?\n",
        "\n",
        "What are examples of different data types that you saw?"
      ],
      "metadata": {
        "id": "Rn28kQ0Rf-jG"
      },
      "id": "Rn28kQ0Rf-jG"
    },
    {
      "cell_type": "code",
      "source": [
        "# strings (ex: 'asdf', 'hello my name is x', 'a', '123')\n",
        "language = \"Python\"\n",
        "\n",
        "# integers (ex: 1, -100, 1383234)\n",
        "major_version = 3\n",
        "\n",
        "# floats (floating point values) (ex: 1.0, -100.1234, 0.0000003, 1e5)\n",
        "minor_version = 9.12\n",
        "\n",
        "# booleans (ex: True, False)\n",
        "showTypes = True\n",
        "\n",
        "# lists (ex: [3, 1, 'r', 'e'], [], [3.2, 3, 4.5])\n",
        "types = [\"str\", \"int\", \"float\", \"complex\", \"list\", \"tuple\", \"range\", \"dict\", \"set\", \"frozenset\", \"bool\", \"bytes\", \"bytearray\", \"memoryview\", \"NoneType\"]\n",
        "\n",
        "# functions (ex: def my_function (a, b): ...)\n",
        "def add(a, b): return a+b\n",
        "\n",
        "\n",
        "# now we print all the variables from above\n",
        "print(\"{} {}.{}\".format(language, major_version, minor_version))\n",
        "if showTypes:\n",
        "  print(\"python types: \")\n",
        "  for t in types:\n",
        "    print(t)\n",
        "print()\n",
        "print(add(2,3))"
      ],
      "metadata": {
        "colab": {
          "base_uri": "https://localhost:8080/"
        },
        "id": "TrXUJ0DngIDD",
        "outputId": "ba5dbcc0-7d87-4bf3-acf3-06b16df1ea0a"
      },
      "id": "TrXUJ0DngIDD",
      "execution_count": 18,
      "outputs": [
        {
          "output_type": "stream",
          "name": "stdout",
          "text": [
            "Python 3.9.12\n",
            "supported types: \n",
            "str\n",
            "int\n",
            "float\n",
            "complex\n",
            "list\n",
            "tuple\n",
            "range\n",
            "dict\n",
            "set\n",
            "frozenset\n",
            "bool\n",
            "bytes\n",
            "bytearray\n",
            "memoryview\n",
            "NoneType\n",
            "\n",
            "5\n"
          ]
        }
      ]
    },
    {
      "cell_type": "markdown",
      "source": [
        "# Variables\n",
        "- What is a variable? What's an example?\n",
        "\n",
        "  Some word (starting with a letter, and can contain letters, numbers, and underscore _) that represents some value. We set the value of a variable with =, for example: test_var = 10 sets the variable test_var to be equal to the value of 10. Setting the value of a variable is often called assigning a variable.\n",
        "\n",
        "- “A bucket” where you can store some value for later use in your program\n",
        "\n",
        "- Has unique name\n",
        "  - Can contain letters, numbers or underscores, but can’t start from number\n",
        "  - Case-sensitive\n",
        "  - Can’t be the same as Python language keywords\n",
        "\n",
        "- Has type\n",
        "  - int, float, bool, string and some more will come later\n",
        "\n",
        "- Has value\n",
        "  - Python “guesses“ the type of the variable by the first value assigned to it\n",
        "- Valid variable names: name, last_name, _first_name, name1\n",
        "- Invalid variable names: 4name, -name, last_$name, 100"
      ],
      "metadata": {
        "id": "wrONmp_mki0F"
      },
      "id": "wrONmp_mki0F"
    },
    {
      "cell_type": "code",
      "source": [
        "num = 3\n",
        "print(num, type(num))\n",
        "# outputs: ->\n",
        "Num = -5\n",
        "print(Num, type(Num))"
      ],
      "metadata": {
        "colab": {
          "base_uri": "https://localhost:8080/"
        },
        "id": "IlPbxT0PlSsY",
        "outputId": "8aef4286-4624-477a-a672-020e656f076b"
      },
      "id": "IlPbxT0PlSsY",
      "execution_count": 21,
      "outputs": [
        {
          "output_type": "stream",
          "name": "stdout",
          "text": [
            "3 <class 'int'>\n",
            "-5 <class 'int'>\n"
          ]
        }
      ]
    },
    {
      "cell_type": "code",
      "source": [
        "pi = 3.14\n",
        "print(pi, type(pi))\n",
        "# outputs: ->\n",
        "smallNumber = 3E-10\n",
        "print(smallNumber, type(smallNumber))"
      ],
      "metadata": {
        "colab": {
          "base_uri": "https://localhost:8080/"
        },
        "id": "mUKgG2dkl6Gq",
        "outputId": "0a82f18f-2da3-41e8-c814-5bf6c06fa55a"
      },
      "id": "mUKgG2dkl6Gq",
      "execution_count": 22,
      "outputs": [
        {
          "output_type": "stream",
          "name": "stdout",
          "text": [
            "3.14 <class 'float'>\n",
            "3e-10 <class 'float'>\n"
          ]
        }
      ]
    },
    {
      "cell_type": "code",
      "source": [
        "b1 = True\n",
        "print(b1, type(b1))\n",
        "# outputs: ->\n",
        "b1 = False\n",
        "print(b1, type(b1))"
      ],
      "metadata": {
        "colab": {
          "base_uri": "https://localhost:8080/"
        },
        "id": "K4M9U030l9Ab",
        "outputId": "c63ebed8-2f33-49cc-9fc5-b120dfb684b1"
      },
      "id": "K4M9U030l9Ab",
      "execution_count": 31,
      "outputs": [
        {
          "output_type": "stream",
          "name": "stdout",
          "text": [
            "True <class 'bool'>\n",
            "False <class 'bool'>\n"
          ]
        },
        {
          "output_type": "execute_result",
          "data": {
            "text/plain": [
              "11"
            ]
          },
          "metadata": {},
          "execution_count": 31
        }
      ]
    },
    {
      "cell_type": "code",
      "source": [
        "letters = \"abcdefghijk\"\n",
        "newString = letters\n",
        "print(letters, type(letters))\n",
        "# outputs: ->\n",
        "print(newString, type(newString))"
      ],
      "metadata": {
        "colab": {
          "base_uri": "https://localhost:8080/"
        },
        "id": "FLH0d4xFmBcc",
        "outputId": "56871f68-e7be-4717-b26d-03237b089054"
      },
      "id": "FLH0d4xFmBcc",
      "execution_count": 24,
      "outputs": [
        {
          "output_type": "stream",
          "name": "stdout",
          "text": [
            "abcdefghijk <class 'str'>\n",
            "abcdefghijk <class 'str'>\n"
          ]
        }
      ]
    },
    {
      "cell_type": "markdown",
      "source": [
        "### Iterables (lists, strings, ...)\n",
        "\n",
        "- What does the `len` keyword do? i.e. `len('asdf')` or `len([1,2,3,4])`\n",
        "\n",
        "  `len` gets the length of any \"iterable\" -- any \"thing\" that is made up of other things that you can \"iterate\" or count through: list, string, tuple, dictionary, set...\n",
        "\n",
        "- What does the `[#]` syntax do?\n",
        "\n",
        "  This _indexes_ into an iterable and gets you the `#` value of it. Note that the \"first\" index is \"0\", because we 0-index in Python. For example:\n"
      ],
      "metadata": {
        "id": "dllKApR8nvrS"
      },
      "id": "dllKApR8nvrS"
    },
    {
      "cell_type": "code",
      "source": [
        "text = \"This is a rather long sentence, but how many characters and blanks are in it?\"\n",
        "len(text)"
      ],
      "metadata": {
        "colab": {
          "base_uri": "https://localhost:8080/"
        },
        "id": "VMZSaMT2orEj",
        "outputId": "f838a259-ae0f-4403-8e7a-b6695ba41f2a"
      },
      "id": "VMZSaMT2orEj",
      "execution_count": 30,
      "outputs": [
        {
          "output_type": "execute_result",
          "data": {
            "text/plain": [
              "77"
            ]
          },
          "metadata": {},
          "execution_count": 30
        }
      ]
    },
    {
      "cell_type": "code",
      "source": [
        "a = 'asdf'\n",
        "b = [1,2,3,4]\n",
        "a[0]"
      ],
      "metadata": {
        "colab": {
          "base_uri": "https://localhost:8080/",
          "height": 36
        },
        "id": "m08jiOPToG_t",
        "outputId": "96a05af6-aa15-46ef-e817-00c55ba3d62e"
      },
      "id": "m08jiOPToG_t",
      "execution_count": 28,
      "outputs": [
        {
          "output_type": "execute_result",
          "data": {
            "text/plain": [
              "'a'"
            ],
            "application/vnd.google.colaboratory.intrinsic+json": {
              "type": "string"
            }
          },
          "metadata": {},
          "execution_count": 28
        }
      ]
    },
    {
      "cell_type": "code",
      "source": [
        "b[3]"
      ],
      "metadata": {
        "colab": {
          "base_uri": "https://localhost:8080/"
        },
        "id": "tAVwDjlwoZrI",
        "outputId": "104f7fc9-3040-42e8-99f9-4459946095e0"
      },
      "id": "tAVwDjlwoZrI",
      "execution_count": 29,
      "outputs": [
        {
          "output_type": "execute_result",
          "data": {
            "text/plain": [
              "4"
            ]
          },
          "metadata": {},
          "execution_count": 29
        }
      ]
    },
    {
      "cell_type": "markdown",
      "source": [
        "## 2. Operators\n",
        "\n",
        "Go through [this Exercise](https://hourofcode.com/toxicodepython) at your own pace in your groups. Make sure you are all doing this together and asking questions.\n",
        "\n",
        "There is no rush -- **it is completely fine not to finish the whole exercise**!!\n",
        "\n",
        "The purpose here is to start getting familiar with Python syntax through trial-and-error (so getting things wrong is **completely expected** and **part of this process**!). After this section, we will go through the activity as a group and discuss our observations of rules and concepts from Python that we took from the exercise.\n",
        "\n",
        "When you get an answer wrong, make sure you look at the correct answer below and try to understand what the expression means from the correct answer.\n",
        "\n",
        "Refresher of some math operators that you will see:\n",
        "\n",
        "- `+`: addition\n",
        "- `-`: subtraction\n",
        "- `*`: multiplication\n",
        "- `a < b`: less than --> \"a is less than b\"\n",
        "- `a > b`: greater than --> \"a is greater than b\""
      ],
      "metadata": {
        "id": "kmpX_a0GpocI"
      },
      "id": "kmpX_a0GpocI"
    },
    {
      "cell_type": "code",
      "source": [
        "#Numbers Operators\n",
        "a = 21\n",
        "b = 10\n",
        "c = 0\n",
        "c = a + b\n",
        "print (\"Line 1 - Value of c is \", c)\n",
        "c = a - b\n",
        "print (\"Line 2 - Value of c is \", c )\n",
        "c = a * b\n",
        "print (\"Line 3 - Value of c is \", c)\n",
        "c = a / b\n",
        "print (\"Line 4 - Value of c is \", c )\n",
        "c = a % b\n",
        "print (\"Line 5 - Value of c is \", c)\n",
        "a = 2\n",
        "b = 3\n",
        "c = a**b\n",
        "print (\"Line 6 - Value of c is \", c)\n",
        "a = 10\n",
        "b = 5\n",
        "c = a//b\n",
        "print (\"Line 7 - Value of c is \", c)"
      ],
      "metadata": {
        "colab": {
          "base_uri": "https://localhost:8080/"
        },
        "id": "0LBhHw4YvcCY",
        "outputId": "cd3772f6-e848-4392-c46b-f50fe236ab71"
      },
      "id": "0LBhHw4YvcCY",
      "execution_count": 32,
      "outputs": [
        {
          "output_type": "stream",
          "name": "stdout",
          "text": [
            "Line 1 - Value of c is  31\n",
            "Line 2 - Value of c is  11\n",
            "Line 3 - Value of c is  210\n",
            "Line 4 - Value of c is  2.1\n",
            "Line 5 - Value of c is  1\n",
            "Line 6 - Value of c is  8\n",
            "Line 7 - Value of c is  2\n"
          ]
        }
      ]
    },
    {
      "cell_type": "code",
      "source": [
        "#String Operators\n",
        "a = 'hello'\n",
        "b = 'class'\n",
        "c = ''\n",
        "c = a + b\n",
        "print(c)\n",
        "c = a * 5\n",
        "print(c)\n",
        "c = 10 * b\n",
        "print(c)"
      ],
      "metadata": {
        "colab": {
          "base_uri": "https://localhost:8080/"
        },
        "id": "oLOwELksvlGb",
        "outputId": "29463cea-0c66-4de8-8f09-390c875c6d0a"
      },
      "id": "oLOwELksvlGb",
      "execution_count": 33,
      "outputs": [
        {
          "output_type": "stream",
          "name": "stdout",
          "text": [
            "helloclass\n",
            "hellohellohellohellohello\n",
            "classclassclassclassclassclassclassclassclassclass\n"
          ]
        }
      ]
    },
    {
      "cell_type": "markdown",
      "source": [
        "## Hands-on Python Tasks\n",
        "\n",
        "**Work in groups** to solve the following tasks in your new Python Dev setup. As a group exercise, we expect you to discuss with your group members to **solve the problems together**. This may mean having one person share their screen and talking through the code you will write together, and making sure you all understand before moving on to the next task. If you do not get through the exercises in class, please keep trying to work through them as homework.\n",
        "\n",
        "There are a lot of tasks, but they are each fairly short. The goal here is to get more practice with data types and the syntax that we learned.\n",
        "\n",
        "### Setup\n",
        "\n",
        "For each task, we recommend creating a new cell (block within the Colab notebook) and writing your code there. Make sure to evaluate the code in the cell (click the play button, or hit the keys: Shift-Enter or Ctrl-Enter) to check the outputs.\n",
        "\n",
        "In case you want to use an integrated development environmen, please set up your IDE:\n",
        "\n",
        "#### VSCode\n",
        "\n",
        "Create and save a new file (`File > New File`) -- you can call it something like `python_exercises_nov2.py` or whatever else you would like, but make sure it has the `.py` file extension. Make sure your Python interpreter is configured properly (according to the installation instructions). Enter the following line into your file: `print('hello')`. Then, try to find the play button in the top right corner and press that, or else right click somewhere within the file and select `Run Python File in Terminal`. Make sure you can see the output 'hello' in the terminal at the bottom.\n",
        "\n",
        "#### PyCharm\n",
        "\n",
        "You can use the project that you set up as part of installing PyCharm or create a new project, depending on how you would like to organize your work. Create a new file (`File > New`, or right-clicking on the left-hand bar and selecting `New > File`) -- you can call it something like `python_exercises_nov2.py` or whatever else you would like, but make sure it has the `.py` file extension. Enter the following line into your file: `print('hello')`. Then, right click on the file tab and select `Run 'YOUR_FILE_NAME'`. Make sure you can see the output 'hello' in the terminal at the bottom. After the first time, you can also simply click the green play button in the top right corner (and make sure the drop-down next to this shows the file name you want to run).\n",
        "\n",
        "#### Backup Option\n",
        "\n",
        "If your setup is not yet working properly, you can also use the IDLE terminal that comes with the Python installation or else the [Python playground](https://trinket.io/python/f7ad7f9864) from last class.\n"
      ],
      "metadata": {
        "id": "Uq2LryyuH4tC"
      },
      "id": "Uq2LryyuH4tC"
    },
    {
      "cell_type": "markdown",
      "source": [
        "## Task 1 - Comments\n",
        "\n",
        "Comments are lines of code that Python will intentionally ignore. Comments are a great way to leave notes to yourself and to other people who will later need to figure out what that code does.\n",
        "\n",
        "There are two ways to write comments in Python:\n",
        "\n",
        "Using # will tell Python to ignore the remainder of the text on the current line. This is an in-line comment:\n",
        "\n",
        "```py\n",
        "# This is an in-line comment.\n",
        "```\n",
        "\n",
        "You can also have comments that span multiple lines which are done with three single or double quotes to start and 3 to end.\n",
        "\n",
        "```py\n",
        "'''\n",
        "This is a mutiline comment\n",
        "'''\n",
        "```\n",
        "\n",
        "NOTE: As you write code, you should regularly add comments to clarify the function of parts of your code. Good commenting can help communicate the intent of your code—both for others and for your future self.\n",
        "\n",
        "For each of the following tasks, add a comment about your code that states which task you are working on (ex. `# Code for task 12`). Once you have completed a task, you can comment out the printed value from that section, so that you do not continue to see the output of all the previous tasks each time. (There isn't a real output for this task!)\n"
      ],
      "metadata": {
        "id": "IVB0Ewc-Kf0E"
      },
      "id": "IVB0Ewc-Kf0E"
    },
    {
      "cell_type": "code",
      "source": [],
      "metadata": {
        "id": "PWdP0aRHK4fN"
      },
      "id": "PWdP0aRHK4fN",
      "execution_count": null,
      "outputs": []
    },
    {
      "cell_type": "markdown",
      "source": [
        "### Task 2 - Declare variables\n",
        "\n",
        "Last class, we went over several Python data types. A \"data type\" describes the quality or structure of a piece of information. Some of the data types that we saw last class include:\n",
        "\n",
        "- `int` for integers (1,0,-4),\n",
        "- `str` for strings ('asdf', 'b', '234'),\n",
        "- `float` for floating point numbers (1.2, 3.44444, 6.2837),\n",
        "- `bool` for booleans (True, False),\n",
        "- `list` for lists ([1,2,3], ['qw45', 134]),\n",
        "\n",
        "For example, computers distinguish between numbers, such as the number 12, and strings, such as \"12\", \"dog\", or \"123 cats\", which are collections of characters. Computers can perform mathematical operations on a number, but not on a string.\n",
        "\n",
        "Variables allow computers to store and manipulate data in a dynamic fashion. They do this by using a \"label\" to point to the data rather than using the data itself. Any of the data types may be stored in a variable, and the value of a variable can be modified.\n",
        "\n",
        "We can create a new Python variable by assigning a value to a label, using the = assignment operator.\n",
        "\n",
        "```py\n",
        "my_name = \"tess\";\n",
        "```\n",
        "\n",
        "creates a variable called `my_name`. A variable name can be composed of characters, numbers, and the \\_ underscore character. It can't start with a number.\n",
        "\n",
        "Create a variable called `our_class` and assign it the value \"Intro to CS\". Print the value of this variable to make sure that it has been set to `Intro to CS`.\n"
      ],
      "metadata": {
        "id": "6o9VuUiMK9ds"
      },
      "id": "6o9VuUiMK9ds"
    },
    {
      "cell_type": "code",
      "source": [],
      "metadata": {
        "id": "1I0cECttLCjL"
      },
      "id": "1I0cECttLCjL",
      "execution_count": null,
      "outputs": []
    },
    {
      "cell_type": "markdown",
      "source": [
        "### Task 3 - Assign the value of one variable to another\n",
        "\n",
        "After a value is assigned to a variable using the assignment operator, you can assign the value of that variable to another variable using the assignment operator. Here's an example:\n",
        "\n",
        "```py\n",
        "my_var = 'asdf'\n",
        "my_num = my_var\n",
        "print(my_num)\n",
        "# outputs 'asdf'\n",
        "```\n",
        "\n",
        "Create a variable `a` and assign it to the value of 5. Assign the contents of `a` to a new variable, `b`. Print the values of `a` and `b` and make sure these are the same.\n"
      ],
      "metadata": {
        "id": "QGPSSJsALJGG"
      },
      "id": "QGPSSJsALJGG"
    },
    {
      "cell_type": "code",
      "source": [],
      "metadata": {
        "id": "tlliTj_RLKMP"
      },
      "id": "tlliTj_RLKMP",
      "execution_count": null,
      "outputs": []
    },
    {
      "cell_type": "markdown",
      "source": [
        "### Task 4 - Adding\n",
        "\n",
        "- Create a variable `c` and assign it to the value of two integers added together (i.e. `2 + 4`). Print `c` and make sure that this is equal to the sum of the two numbers you have added together.\n",
        "- Print the sum of `c` and `2`.\n",
        "- Using the variable `a` (value = 5) from Task 2, print the sum of `a` and `c`.\n",
        "- Increment (increase) the value of `c` by 2.\n",
        "\n",
        "Hint: you can increment the value of a variable by using either the `+=` operator (i.e. `my_var += 5`) or by reassigning the variable (i.e. `my_var = my_var + 5`).\n"
      ],
      "metadata": {
        "id": "AysjTROTLN-o"
      },
      "id": "AysjTROTLN-o"
    },
    {
      "cell_type": "code",
      "source": [],
      "metadata": {
        "id": "FN9lvGb9LOtu"
      },
      "id": "FN9lvGb9LOtu",
      "execution_count": null,
      "outputs": []
    },
    {
      "cell_type": "markdown",
      "source": [
        "### Task 5 - Subtracting\n",
        "\n",
        "- Create a variable `d` and assign it to the value of an integer subtracted from another (i.e. `4 - 3`). Print `d` and make sure that this is equal to the difference of the two numbers.\n",
        "- Print the expression subtracting `d` from `a`.\n",
        "- Decrement (decrease) the value of `d` by 2.\n",
        "\n",
        "Hint: just like with `+=`, you can decrement by using the `-=` operator or by reassigning the variable (i.e. `my_var = my_var - 5`).\n"
      ],
      "metadata": {
        "id": "3GZpPXK9LRfF"
      },
      "id": "3GZpPXK9LRfF"
    },
    {
      "cell_type": "code",
      "source": [],
      "metadata": {
        "id": "ruXdcLd-LSC_"
      },
      "id": "ruXdcLd-LSC_",
      "execution_count": null,
      "outputs": []
    },
    {
      "cell_type": "markdown",
      "source": [
        "### Task 6 - Multiplying\n",
        "\n",
        "- Create a variable `e` and assign it to the value of an integer multiplied by another (i.e. `3 * 9`). Print `e` and make sure that this is equal to the product of the two numbers you have multiplied.\n",
        "- Print the expression multiplying `e` with `a`.\n",
        "- Multiply the value of `e` by 2.\n",
        "\n",
        "Hint: just like with `-=`, you can multiply the value of a variable by using the `*=` operator or by reassigning the variable (i.e. `my_var = my_var * 5`).\n"
      ],
      "metadata": {
        "id": "LX6MBgMILUU7"
      },
      "id": "LX6MBgMILUU7"
    },
    {
      "cell_type": "code",
      "source": [],
      "metadata": {
        "id": "BGHnyrXmLWg0"
      },
      "id": "BGHnyrXmLWg0",
      "execution_count": null,
      "outputs": []
    },
    {
      "cell_type": "markdown",
      "source": [
        "### Task 7 - Dividing\n",
        "\n",
        "- Create a variable `f` and assign it to the value of a number divided by another (i.e. `3 / 9`). Print `f` and make sure that this is equal to the quotient (result of the division).\n",
        "- Print the expression dividing `f` by `a`.\n",
        "- Divide the value of `f` by 2.\n",
        "\n",
        "Hint: just like with `*=`, you can multiply the value of a variable by using the `/=` operator or by reassigning the variable (i.e. `my_var = my_var / 5`).\n",
        "\n",
        "Note that there are multiple \"types\" of division. In Python, `/` (as used above) divides as we normally think of division and can return a floating point value. There is a second operator, `//`, that performs what is called \"integer division\" which means that it discards the remainder (i.e. no value after the decimal point).\n"
      ],
      "metadata": {
        "id": "v02AkD8uLWyG"
      },
      "id": "v02AkD8uLWyG"
    },
    {
      "cell_type": "code",
      "source": [],
      "metadata": {
        "id": "IF7_rUhvLX48"
      },
      "id": "IF7_rUhvLX48",
      "execution_count": null,
      "outputs": []
    },
    {
      "cell_type": "markdown",
      "source": [
        "### Task 8 - Modulo (remainder)\n",
        "\n",
        "The modulo (%) or remainder operator gives the remainder of the division of two numbers.\n",
        "Example:\n",
        "\n",
        "```py\n",
        "5 % 2 = 1 because\n",
        "2 * 2 = 4\n",
        "5 - 4 = 1 (Remainder)\n",
        "```\n",
        "\n",
        "This can be useful to check, among other things, whether a number is even or odd, by checking the remainder of the division of the number by 2:\n",
        "\n",
        "```py\n",
        "17 % 2 = 1 (17 is Odd)\n",
        "48 % 2 = 0 (48 is Even)\n",
        "```\n",
        "\n",
        "Copy the following code and replace `VALUE_HERE` with an integer so that the value of `mod_output` is equal to 3.\n",
        "\n",
        "```py\n",
        "a = VALUE_HERE\n",
        "mod_output = 9 % a\n",
        "print(mod_output)\n",
        "```"
      ],
      "metadata": {
        "id": "R__PZ_UMLcEq"
      },
      "id": "R__PZ_UMLcEq"
    },
    {
      "cell_type": "code",
      "source": [],
      "metadata": {
        "id": "7hqlPa8DLecG"
      },
      "id": "7hqlPa8DLecG",
      "execution_count": null,
      "outputs": []
    },
    {
      "cell_type": "markdown",
      "source": [
        "### Task 9 - String variables\n",
        "\n",
        "Recall that a string is a series of zero or more characters that are enclosed in either single or double quotes, or triple quotes (the same as with multiline comments). Valid strings in Python include:\n",
        "\n",
        "```py\n",
        "\"\"  # empty string\n",
        "\"'hello'\"\n",
        "'adf'\n",
        "'\"asdf\"'\n",
        "\"\"\"asdf\"\"\"\n",
        "```\n",
        "\n",
        "In Python, you can \"concatenate\", or join, two strings together using the `+` operator. In Python, `'hello' + ' world'` would equal `'hello world'`.\n",
        "\n",
        "- Create two new string variables: `my_first_name` and `my_last_name` and assign them to the values of your first and last name. Print out the value of each variable to confirm this.\n",
        "- Concatenate the two string variables and print this result. Additionally, try to add a space between the two. (Hint: you can concatenate more than one string in an expression, like: `'hello' + ',' + 'world'`).\n",
        "- Create a new variable called `my_fullname` and set this to the value of `my_first_name` concatenated with a space and then `my_last_name` (as in the exercise directly above this).\n",
        "- Recall the `+=` operator that we used to increment a variable. This can also be used to concatenate a string onto the end of a string variable. Try this operator out by adding the line: `my_first_name += ' is awesome'` and printing out `my_first_name`. Is this value what you expected?\n"
      ],
      "metadata": {
        "id": "LONOfe-vLhDD"
      },
      "id": "LONOfe-vLhDD"
    },
    {
      "cell_type": "code",
      "source": [],
      "metadata": {
        "id": "tLYmF6F2Lh6h"
      },
      "id": "tLYmF6F2Lh6h",
      "execution_count": null,
      "outputs": []
    },
    {
      "cell_type": "markdown",
      "source": [
        "### Task 10 - String lengths\n",
        "\n",
        "In Python, you can find the length of a String value by writing using the built-in `len` function. Example:\n",
        "\n",
        "```py\n",
        "len(\"redi\")\n",
        "# outputs 4\n",
        "len('hello, world')\n",
        "# outputs 12\n",
        "```\n",
        "\n",
        "- Copy the following snippet into your file, and then print the lengths of each of the following variables:\n",
        "\n",
        "```py\n",
        "empty = ''\n",
        "language = \"Python\"\n",
        "sentence = \"I'm a really long sentence\"\n",
        "```\n",
        "\n",
        "- Write a line of code that defines the variable `total_length` as the sum of the lengths of all three variables above.\n"
      ],
      "metadata": {
        "id": "JbZMw2NgLlAE"
      },
      "id": "JbZMw2NgLlAE"
    },
    {
      "cell_type": "code",
      "source": [],
      "metadata": {
        "id": "A3n0ZiWBLmDC"
      },
      "id": "A3n0ZiWBLmDC",
      "execution_count": null,
      "outputs": []
    },
    {
      "cell_type": "markdown",
      "source": [
        "### Task 11 - Strings as iterables\n",
        "\n",
        "Bracket notation, or \"array indexing\" is a way to get a character at a specific index within a string. (This also works for lists and other ordered iterables). Most modern programming languages, like Python, don't start counting at 1 like humans do, but instead start at 0. This is referred to as \"zero-indexing\".\n",
        "\n",
        "For example, the character at the index 0 in the word `Hello` is `H`. So if `word = \"Hello\"`, you can get the value of the first letter of this string by using: `word[0]`.\n",
        "\n",
        "In Python, you can also use negative numbers to index backwards into a word. For example, `word[-1]` will get you the last letter in the word.\n",
        "\n",
        "- Use bracket notation to find the first character in `sentence` from task 9, and print this out.\n",
        "- Use bracket notation and the `len` operator to find the last letter in the word, and print this out. (Hint: the last index is equal to the length of the word - 1 (because of zero-indexing)).\n",
        "- Use the negative number indexing to find and print the second to last letter in `sentence`.\n"
      ],
      "metadata": {
        "id": "Nv4w449LLujN"
      },
      "id": "Nv4w449LLujN"
    },
    {
      "cell_type": "code",
      "source": [],
      "metadata": {
        "id": "3f3d8eihLvki"
      },
      "id": "3f3d8eihLvki",
      "execution_count": null,
      "outputs": []
    },
    {
      "cell_type": "markdown",
      "source": [
        "### Task 12 - Slicing strings\n",
        "\n",
        "You can use the same principle we just used to retrieve a part of the string (sometimes referred to as a \"substring\"). Here are some examples (note: leaving the index off before or after the `:` is shorthand for the start and end of the word):\n",
        "\n",
        "```py\n",
        "word = \"Hello!\"\n",
        "word[1:2]  # outputs: \"e\"\n",
        "word[0:3]  # outputs: \"Hel\"; equivalent to word[:3]\n",
        "word[:]  # outputs: \"Hello!\"\n",
        "word[3:6]  # outputs: \"lo!\"; equivalent to word[3:]\n",
        "word[2:-2]  # outputs: \"ll\"; equivalent to word[2:len(word) - 2]\n",
        "```\n",
        "\n",
        "- Using the variable `sentence` from task 9, `sentence = \"I'm a really long sentence\"`, create a new variable `only_really` that contains only the word `really` in the sentence, and print the value of this variable.\n",
        "- Using the variable `sentence` again, create a new variable called `first_letters` that contains the first 4 letters of `sentence`.\n"
      ],
      "metadata": {
        "id": "xww94c0qLyc5"
      },
      "id": "xww94c0qLyc5"
    },
    {
      "cell_type": "code",
      "source": [],
      "metadata": {
        "id": "RcU9kr46L5uq"
      },
      "id": "RcU9kr46L5uq",
      "execution_count": null,
      "outputs": []
    },
    {
      "cell_type": "markdown",
      "source": [
        "## Extra resources and references from class\n",
        "\n",
        "- [Python playground](https://trinket.io/python/f7ad7f9864)\n",
        "- [\"Hello, World!\" on Wikipedia](https://en.wikipedia.org/wiki/%22Hello,_World!%22_program)\n",
        "- [Silent Teacher exercise from class](https://hourofcode.com/toxicodepython)\n",
        "- [Python foundation docs](https://www.python.org/doc/essays/blurb/)\n",
        "- [List of some open source Python projects](https://data-flair.training/blogs/python-open-source-projects/)"
      ],
      "metadata": {
        "id": "yFKXBBSsL_TC"
      },
      "id": "yFKXBBSsL_TC"
    }
  ],
  "metadata": {
    "kernelspec": {
      "display_name": "Python 3.9.12 ('base': conda)",
      "language": "python",
      "name": "python3"
    },
    "language_info": {
      "codemirror_mode": {
        "name": "ipython",
        "version": 3
      },
      "file_extension": ".py",
      "mimetype": "text/x-python",
      "name": "python",
      "nbconvert_exporter": "python",
      "pygments_lexer": "ipython3",
      "version": "3.9.12"
    },
    "vscode": {
      "interpreter": {
        "hash": "2d63cf38a8ddc3101a2c0f32b71647b4096a78b8efd4c1bbcf73ffeaf57c27fa"
      }
    },
    "colab": {
      "provenance": []
    }
  },
  "nbformat": 4,
  "nbformat_minor": 5
}