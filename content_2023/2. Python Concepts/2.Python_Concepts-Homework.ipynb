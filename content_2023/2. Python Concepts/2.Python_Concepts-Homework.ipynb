{
 "cells": [
  {
   "cell_type": "markdown",
   "id": "cc022903",
   "metadata": {},
   "source": [
    "# Hands on Tasks / Homework"
   ]
  },
  {
   "cell_type": "markdown",
   "id": "34cdc05e",
   "metadata": {},
   "source": [
    "## Task 0 - Comments"
   ]
  },
  {
   "cell_type": "markdown",
   "id": "9b6008a3",
   "metadata": {},
   "source": [
    "Comments are lines of code that Python will intentionally ignore. Comments are a great way to leave notes to yourself and to other people who will later need to figure out what that code does.\n",
    "\n",
    "There are two ways to write comments in Python:\n",
    "\n",
    "Using # will tell Python to ignore the remainder of the text on the current line. This is an in-line comment:"
   ]
  },
  {
   "cell_type": "code",
   "execution_count": null,
   "id": "115c9870",
   "metadata": {},
   "outputs": [],
   "source": [
    "# This is an in-line comment."
   ]
  },
  {
   "cell_type": "markdown",
   "id": "9de13137",
   "metadata": {},
   "source": [
    "NOTE: As you write code, you should regularly add comments to clarify the function of parts of your code. Good commenting can help communicate the intent of your code—both for others and for your future self.\n",
    "\n",
    "For each of the following tasks, add a comment about your code that states which task you are working on (ex. `# Code for task 12`). Once you have completed a task, you can comment out the printed value from that section, so that you do not continue to see the output of all the previous tasks each time. (There isn't a real output for this task!)"
   ]
  },
  {
   "cell_type": "markdown",
   "id": "5e122c25",
   "metadata": {},
   "source": [
    "## Task 1 - Declare Variables"
   ]
  },
  {
   "cell_type": "markdown",
   "id": "84da4db6",
   "metadata": {},
   "source": [
    "Last class, we went over several Python data types. A \"data type\" describes the quality or structure of a piece of information. Some of the data types that we saw last class include:\n",
    "\n",
    "- `int` for integers (1,0,-4),\n",
    "- `str` for strings ('asdf', 'b', '234'),\n",
    "- `float` for floating point numbers (1.2, 3.44444, 6.2837),\n",
    "- `bool` for booleans (True, False),\n",
    "- `list` for lists ([1,2,3], ['qw45', 134]),\n",
    "\n",
    "For example, computers distinguish between numbers, such as the number 12, and strings, such as \"12\", \"dog\", or \"123 cats\", which are collections of characters. Computers can perform mathematical operations on a number, but not on a string.\n",
    "\n",
    "Variables allow computers to store and manipulate data in a dynamic fashion. They do this by using a \"label\" to point to the data rather than using the data itself. Any of the data types may be stored in a variable, and the value of a variable can be modified.\n",
    "\n",
    "We can create a new Python variable by assigning a value to a label, using the = assignment operator."
   ]
  },
  {
   "cell_type": "code",
   "execution_count": null,
   "id": "201f6300",
   "metadata": {},
   "outputs": [],
   "source": [
    "#Change \"tess\" with your own name and run it\n",
    "my_name = \"tess\""
   ]
  },
  {
   "cell_type": "markdown",
   "id": "abd495de",
   "metadata": {},
   "source": [
    "creates a variable called my_name. A variable name can be composed of characters, numbers, and the _ underscore character. It can't start with a number.\n",
    "-  `Task 1` Create a variable called our_class and assign it the value \"Intro to CS\". Print the value of this variable to make sure that it has been set to Intro to CS."
   ]
  },
  {
   "cell_type": "code",
   "execution_count": null,
   "id": "d5bef3d7",
   "metadata": {},
   "outputs": [],
   "source": [
    "#write your solution here for Task 1"
   ]
  },
  {
   "cell_type": "markdown",
   "id": "0e522b42",
   "metadata": {},
   "source": [
    "## Task 2 - Assign the value of one variable to another"
   ]
  },
  {
   "cell_type": "markdown",
   "id": "2e72ed7e",
   "metadata": {},
   "source": [
    "After a value is assigned to a variable using the assignment operator, you can assign the value of that variable to another variable using the assignment operator. Here's an example:"
   ]
  },
  {
   "cell_type": "code",
   "execution_count": null,
   "id": "95c74a41",
   "metadata": {},
   "outputs": [],
   "source": [
    "my_var = 'asdf'\n",
    "my_num = my_var\n",
    "print(my_num)\n",
    "# outputs 'asdf'"
   ]
  },
  {
   "cell_type": "markdown",
   "id": "b27284bf",
   "metadata": {},
   "source": [
    "- `Task 2`Create a variable a and assign it to the value of 5. Assign the contents of a to a new variable, b. Print the values of a and b and make sure these are the same."
   ]
  },
  {
   "cell_type": "code",
   "execution_count": null,
   "id": "312d8b1c",
   "metadata": {},
   "outputs": [],
   "source": [
    "#write your solution here for Task 2"
   ]
  },
  {
   "cell_type": "markdown",
   "id": "ee997dc1",
   "metadata": {},
   "source": [
    "## Task 3 - Adding"
   ]
  },
  {
   "cell_type": "markdown",
   "id": "0e0deba4",
   "metadata": {},
   "source": [
    "`Task 3`\n",
    "- Create a variable `c` and assign it to the value of two integers added together (i.e. `2 + 4`). Print `c` and make sure that this is equal to the sum of the two numbers you have added together.\n",
    "- Print the sum of `c` and `2`.\n",
    "- Using the variable `a` (value = 5) from Task 2, print the sum of `a` and `c`.\n",
    "- Increment (increase) the value of `c` by 2.\n",
    "\n",
    "Hint: you can increment the value of a variable by using either the `+=` operator (i.e. `my_var += 5`) or by reassigning the variable (i.e. `my_var = my_var + 5`)."
   ]
  },
  {
   "cell_type": "code",
   "execution_count": null,
   "id": "8fae6753",
   "metadata": {},
   "outputs": [],
   "source": [
    "#write your solution here for Task 3"
   ]
  },
  {
   "cell_type": "markdown",
   "id": "bb67024f",
   "metadata": {},
   "source": [
    "## Task 4 -  Subtracting"
   ]
  },
  {
   "cell_type": "markdown",
   "id": "f0bd496f",
   "metadata": {},
   "source": [
    "`Task 4`\n",
    "- Create a variable `d` and assign it to the value of an integer subtracted from another (i.e. `4 - 3`). Print `d` and make sure that this is equal to the difference of the two numbers.\n",
    "- Print the expression subtracting `d` from `a`.\n",
    "- Decrement (decrease) the value of `d` by 2.\n",
    "\n",
    "Hint: just like with `+=`, you can decrement by using the `-=` operator or by reassigning the variable (i.e. `my_var = my_var - 5`)."
   ]
  },
  {
   "cell_type": "code",
   "execution_count": null,
   "id": "9f0af008",
   "metadata": {},
   "outputs": [],
   "source": [
    "#write your solution here for Task 4"
   ]
  },
  {
   "cell_type": "markdown",
   "id": "664ca090",
   "metadata": {},
   "source": [
    "## Task 5 - Multiplying"
   ]
  },
  {
   "cell_type": "markdown",
   "id": "ed68a964",
   "metadata": {},
   "source": [
    "`Task 5`\n",
    "- Create a variable `e` and assign it to the value of an integer multiplied by another (i.e. `3 * 9`). Print `e` and make sure that this is equal to the product of the two numbers you have multiplied.\n",
    "- Print the expression multiplying `e` with `a`.\n",
    "- Multiply the value of `e` by 2.\n",
    "\n",
    "Hint: just like with `-=`, you can multiply the value of a variable by using the `*=` operator or by reassigning the variable (i.e. `my_var = my_var * 5`)."
   ]
  },
  {
   "cell_type": "code",
   "execution_count": null,
   "id": "30084840",
   "metadata": {},
   "outputs": [],
   "source": [
    "#write your solution here for Task 5"
   ]
  },
  {
   "cell_type": "markdown",
   "id": "949a8507",
   "metadata": {},
   "source": [
    "## Task 6 - Dividing"
   ]
  },
  {
   "cell_type": "markdown",
   "id": "3f3afea4",
   "metadata": {},
   "source": [
    "`Task 6`\n",
    "- Create a variable `f` and assign it to the value of a number divided by another (i.e. `3 / 9`). Print `f` and make sure that this is equal to the quotient (result of the division).\n",
    "- Print the expression dividing `f` by `a`.\n",
    "- Divide the value of `f` by 2.\n",
    "\n",
    "Hint: just like with `*=`, you can multiply the value of a variable by using the `/=` operator or by reassigning the variable (i.e. `my_var = my_var / 5`).\n",
    "\n",
    "Note that there are multiple \"types\" of division. In Python, `/` (as used above) divides as we normally think of division and can return a floating point value. There is a second operator, `//`, that performs what is called \"integer division\" which means that it discards the remainder (i.e. no value after the decimal point)."
   ]
  },
  {
   "cell_type": "code",
   "execution_count": null,
   "id": "07bcd768",
   "metadata": {},
   "outputs": [],
   "source": [
    "#write your solution here for Task 6"
   ]
  },
  {
   "cell_type": "markdown",
   "id": "02f77c0b",
   "metadata": {},
   "source": [
    "## Task 7 - Modulo (remainder)"
   ]
  },
  {
   "cell_type": "markdown",
   "id": "0dbf82d8",
   "metadata": {},
   "source": [
    "The modulo (%) or remainder operator gives the remainder of the division of two numbers. Example:\n",
    "- 5 % 2 = 1 because\n",
    "- 2 * 2 = 4\n",
    "- 5 - 4 = 1 (Remainder)"
   ]
  },
  {
   "cell_type": "code",
   "execution_count": null,
   "id": "385dbafe",
   "metadata": {},
   "outputs": [],
   "source": [
    "print(5 % 2)\n",
    "print(2 * 2)\n",
    "print(5 - 4)"
   ]
  },
  {
   "cell_type": "markdown",
   "id": "6363a8ae",
   "metadata": {},
   "source": [
    "This can be useful to check, among other things, whether a number is even or odd, by checking the remainder of the division of the number by 2:\n",
    "- 17 % 2 = 1 (17 is Odd)\n",
    "- 48 % 2 = 0 (48 is Even)"
   ]
  },
  {
   "cell_type": "code",
   "execution_count": null,
   "id": "cceb94f0",
   "metadata": {},
   "outputs": [],
   "source": [
    "print(17 % 2 )\n",
    "print(48 % 2 )"
   ]
  },
  {
   "cell_type": "markdown",
   "id": "c71e7671",
   "metadata": {},
   "source": [
    "`Task7`\n",
    "\n",
    "Copy the following code and replace `VALUE_HERE` with an integer so that the value of `mod_output` is equal to 3."
   ]
  },
  {
   "cell_type": "code",
   "execution_count": null,
   "id": "17be39f8",
   "metadata": {},
   "outputs": [],
   "source": [
    "#write your solution here for Task 7\n",
    "a = VALUE_HERE\n",
    "mod_output = 9 % a\n",
    "print(mod_output)"
   ]
  },
  {
   "cell_type": "markdown",
   "id": "acdcb91b",
   "metadata": {},
   "source": [
    "## Task 8 - String variables"
   ]
  },
  {
   "cell_type": "markdown",
   "id": "00797552",
   "metadata": {},
   "source": [
    "Recall that a string is a series of zero or more characters that are enclosed in either single or double quotes, or triple quotes (the same as with multiline comments). Valid strings in Python include:"
   ]
  },
  {
   "cell_type": "code",
   "execution_count": null,
   "id": "502c419b",
   "metadata": {},
   "outputs": [],
   "source": [
    "\"\"  # empty string\"'hello'\"\n",
    "'adf'\n",
    "'\"asdf\"'\n",
    "\"\"\"asdf\"\"\""
   ]
  },
  {
   "cell_type": "markdown",
   "id": "fa26326e",
   "metadata": {},
   "source": [
    "In Python, you can \"concatenate\", or join, two strings together using the `+` operator. In Python, `'hello' + ' world'` would equal `'hello world'`.\n",
    "\n",
    "`Task 8`\n",
    "\n",
    "- Create two new string variables: `my_first_name` and `my_last_name` and assign them to the values of your first and last name. Print out the value of each variable to confirm this.\n",
    "- Concatenate the two string variables and print this result. Additionally, try to add a space between the two. (Hint: you can concatenate more than one string in an expression, like: `'hello' + ',' + 'world'`).\n",
    "- Create a new variable called `my_fullname` and set this to the value of `my_first_name` concatenated with a space and then `my_last_name` (as in the exercise directly above this).\n",
    "- Recall the `+=` operator that we used to increment a variable. This can also be used to concatenate a string onto the end of a string variable. Try this operator out by adding the line: `my_first_name += ' is awesome'` and printing out `my_first_name`. Is this value what you expected?"
   ]
  },
  {
   "cell_type": "code",
   "execution_count": null,
   "id": "4b1b0e99",
   "metadata": {},
   "outputs": [],
   "source": [
    "#write your solution here for Task 8"
   ]
  },
  {
   "cell_type": "markdown",
   "id": "c888cc30",
   "metadata": {},
   "source": [
    "## Task 9 - String lengths"
   ]
  },
  {
   "cell_type": "markdown",
   "id": "18946031",
   "metadata": {},
   "source": [
    "In Python, you can find the length of a String value by writing using the built-in len function. Example:"
   ]
  },
  {
   "cell_type": "code",
   "execution_count": null,
   "id": "2ae9372c",
   "metadata": {},
   "outputs": [],
   "source": [
    "len(\"redi\")\n",
    "# outputs 4\n"
   ]
  },
  {
   "cell_type": "code",
   "execution_count": null,
   "id": "2f4607c3",
   "metadata": {},
   "outputs": [],
   "source": [
    "len('hello, world')\n",
    "# outputs 12"
   ]
  },
  {
   "cell_type": "markdown",
   "id": "1278fad9",
   "metadata": {},
   "source": [
    "`Task 9`\n",
    "- Print the lengths of each of the following variables below\n",
    "- Write a line of code that defines the variable `total_length` as the sum of the lengths of all three variables below"
   ]
  },
  {
   "cell_type": "code",
   "execution_count": null,
   "id": "a795de7a",
   "metadata": {},
   "outputs": [],
   "source": [
    "empty = ''\n",
    "language = \"Python\"\n",
    "sentence = \"I'm a really long sentence\""
   ]
  },
  {
   "cell_type": "code",
   "execution_count": null,
   "id": "5052eb58",
   "metadata": {},
   "outputs": [],
   "source": [
    "#write your solution here for Task 9"
   ]
  },
  {
   "cell_type": "markdown",
   "id": "38fdfdfc",
   "metadata": {},
   "source": [
    "## Task 10 - Strings as iterables"
   ]
  },
  {
   "cell_type": "markdown",
   "id": "ea1c66f7",
   "metadata": {},
   "source": [
    "Bracket notation, or \"array indexing\" is a way to get a character at a specific index within a string. (This also works for lists and other ordered iterables). Most modern programming languages, like Python, don't start counting at 1 like humans do, but instead start at 0. This is referred to as \"zero-indexing\".\n",
    "\n",
    "For example, the character at the index 0 in the word `Hello` is `H`. So if `word = \"Hello\"`, you can get the value of the first letter of this string by using: `word[0]`.\n",
    "\n",
    "In Python, you can also use negative numbers to index backwards into a word. For example, `word[-1]` will get you the last letter in the word.\n",
    "\n",
    "\n",
    "`Task 10`\n",
    "\n",
    "- Use bracket notation to find the first character in `sentence` from task 9, and print this out.\n",
    "- Use bracket notation and the `len` operator to find the last letter in the word, and print this out. (Hint: the last index is equal to the length of the word - 1 (because of zero-indexing)).\n",
    "- Use the negative number indexing to find and print the second to last letter in `sentence`."
   ]
  },
  {
   "cell_type": "code",
   "execution_count": null,
   "id": "b02f40f7",
   "metadata": {},
   "outputs": [],
   "source": [
    "#write your solution here for Task 10"
   ]
  },
  {
   "cell_type": "markdown",
   "id": "f719d6eb",
   "metadata": {},
   "source": [
    "## Task 11 - Slicing strings"
   ]
  },
  {
   "cell_type": "markdown",
   "id": "63dee979",
   "metadata": {},
   "source": [
    "You can use the same principle we just used to retrieve a part of the string (sometimes referred to as a \"substring\"). Here are some examples (note: leaving the index off before or after the : is shorthand for the start and end of the word):"
   ]
  },
  {
   "cell_type": "code",
   "execution_count": null,
   "id": "9a1ff50c",
   "metadata": {},
   "outputs": [],
   "source": [
    "word = \"Hello!\"\n",
    "word[1:2]  # outputs: \"e\"\n"
   ]
  },
  {
   "cell_type": "code",
   "execution_count": null,
   "id": "346836bf",
   "metadata": {},
   "outputs": [],
   "source": [
    "word[0:3]  # outputs: \"Hel\"; equivalent to word[:3]\n"
   ]
  },
  {
   "cell_type": "code",
   "execution_count": null,
   "id": "6fe464ec",
   "metadata": {},
   "outputs": [],
   "source": [
    "word[:]  # outputs: \"Hello!\""
   ]
  },
  {
   "cell_type": "code",
   "execution_count": null,
   "id": "5e68b97e",
   "metadata": {},
   "outputs": [],
   "source": [
    "word[3:6]  # outputs: \"lo!\"; equivalent to word[3:]"
   ]
  },
  {
   "cell_type": "code",
   "execution_count": null,
   "id": "b20232c8",
   "metadata": {},
   "outputs": [],
   "source": [
    " word[3:] "
   ]
  },
  {
   "cell_type": "code",
   "execution_count": null,
   "id": "97e7238f",
   "metadata": {},
   "outputs": [],
   "source": [
    "word[2:-2]  # outputs: \"ll\"; equivalent to word[2:len(word) - 2]"
   ]
  },
  {
   "cell_type": "code",
   "execution_count": null,
   "id": "70ffca22",
   "metadata": {},
   "outputs": [],
   "source": [
    "word[2:len(word) - 2]"
   ]
  },
  {
   "cell_type": "markdown",
   "id": "91d67800",
   "metadata": {},
   "source": [
    "`Task 11`\n",
    "- Using the variable `sentence` from task 9, `sentence = \"I'm a really long sentence\"`, create a new variable `only_really` that contains only the word `really` in the sentence, and print the value of this variable.\n",
    "- Using the variable `sentence` again, create a new variable called `first_letters` that contains the first 4 letters of `sentence`."
   ]
  },
  {
   "cell_type": "code",
   "execution_count": null,
   "id": "4a883b82",
   "metadata": {},
   "outputs": [],
   "source": [
    "#write your solution here for Task 11"
   ]
  }
 ],
 "metadata": {
  "kernelspec": {
   "display_name": "Python 3 (ipykernel)",
   "language": "python",
   "name": "python3"
  },
  "language_info": {
   "codemirror_mode": {
    "name": "ipython",
    "version": 3
   },
   "file_extension": ".py",
   "mimetype": "text/x-python",
   "name": "python",
   "nbconvert_exporter": "python",
   "pygments_lexer": "ipython3",
   "version": "3.9.7"
  }
 },
 "nbformat": 4,
 "nbformat_minor": 5
}
