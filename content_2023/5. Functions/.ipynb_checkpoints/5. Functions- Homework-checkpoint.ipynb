{
 "cells": [
  {
   "cell_type": "markdown",
   "id": "e21c3ff4-008b-42b7-bbce-fe6dd0e0da3d",
   "metadata": {},
   "source": [
    "# Homework 4"
   ]
  },
  {
   "cell_type": "markdown",
   "id": "1e380321-9a29-4860-bee7-f9981c232b88",
   "metadata": {},
   "source": [
    "## Hands-on Python Tasks\n",
    "\n",
    "**Work in groups** to solve the following tasks in your Python Dev setup. As a group exercise, we expect you to discuss with your group members to **solve the problems together**. This may mean having one person share their screen and talking through the code you will write together, and making sure you all understand before moving on to the next task. You are **not expected** to get through all of these in class, and they range from easier to harder. It is okay not to complete all the tasks during the class, but please continue as a homework.\n",
    "\n",
    "To build on the skills that we have learned earlier in the semester, if working in VSCode or Jupyter Lab, please create a new repository and commit your changes as you go. You can check out the reference sheets to help remember the necessary git and command line commands. [Click here for the cheat sheet](../../references)\n",
    "\n",
    "Optionally, you may send in a link to a GitHub repository with your solutions (if working in VSCode or Jupter Lab) or share your notebook (if working in Colab) if you would like feedback on your work :)\n",
    "\n",
    "Note: if you are writing in Colab or a Python Notebook, then try to keep each task in a separate code cell. "
   ]
  },
  {
   "cell_type": "markdown",
   "id": "f1213ee3-e830-4af4-96ac-e9b47186eaac",
   "metadata": {},
   "source": [
    "### Task 1\n",
    "\n",
    "1.  Write your own function called `my_function_1` that returns the string `Hello, this is my first function` . Call the function\n",
    "2.  Write your own function called `my_function_2` that prints the string `Hello, this is my first function` . Call the function\n",
    "3.  Assigned `my_function_1` to a variable `a` and print `a`\n",
    "4.  Assigned `my_function_2` to a variable `b` and print `b` and Compare print(a) and print(b) results and see the difference.\n",
    "5.  Write your own function called `my_function` that expects a parameter called `message` and returns the `message`. Called the function with the argument called `my_message` that you assigned the string `Hello, this is my first function` ."
   ]
  },
  {
   "cell_type": "code",
   "execution_count": null,
   "id": "fde25cee-a525-4c0f-ae8f-61f87abeeb56",
   "metadata": {},
   "outputs": [],
   "source": [
    "#1"
   ]
  },
  {
   "cell_type": "code",
   "execution_count": null,
   "id": "9e1d61c7-81a7-4303-9bf9-1778791ade33",
   "metadata": {},
   "outputs": [],
   "source": [
    "#2"
   ]
  },
  {
   "cell_type": "code",
   "execution_count": null,
   "id": "2cde848d-2796-40c9-a115-91556e21de05",
   "metadata": {},
   "outputs": [],
   "source": [
    "#3"
   ]
  },
  {
   "cell_type": "code",
   "execution_count": null,
   "id": "6163d61c-dc28-461a-ae36-36d5019f5ad0",
   "metadata": {},
   "outputs": [],
   "source": [
    "#4"
   ]
  },
  {
   "cell_type": "code",
   "execution_count": null,
   "id": "fe9dcbf9-eb22-4bba-a1a6-75b8b6e246fe",
   "metadata": {},
   "outputs": [],
   "source": [
    "#5"
   ]
  },
  {
   "cell_type": "markdown",
   "id": "1d4f8ed6-a16e-4bac-9aff-b302e04d7756",
   "metadata": {},
   "source": [
    "### Task 2  (part 1, 2)\n",
    "1. Write a function called `area` that calculates area of square by given edge length (s)\n",
    "2. Modify your function that it calculates square area by asking user for the edge of length (s) using input function. \n",
    "\n",
    "*Hint:*\n",
    "- Formula: **\" square area = s<sup>2</sup> \"**\n",
    "- Don’t forget that input function returns strings that should be converted to numbers"
   ]
  },
  {
   "cell_type": "code",
   "execution_count": null,
   "id": "71dd7a80-116c-4cd0-9247-a6b412a31499",
   "metadata": {},
   "outputs": [],
   "source": []
  },
  {
   "cell_type": "markdown",
   "id": "fd21d0e4-27d2-4341-8889-6cc689b2a9ed",
   "metadata": {},
   "source": [
    "### Task 3 \n",
    " You are in a country X and travelling to Germany next week. You have 100 dollars and you want to convert them to euros. You go to a currency exchange center and they tell you that they cannot convert it directly: they have first to convert the 100 dollars to currency X, and then convert it from currency X to euros. Write a program which asks an amount to the user, makes a conversion of 100 dollars to euro and prints the result, given that:\n",
    "\n",
    "- exchange rate from dollars to currency X is 15 (1 dollar become 15X)\n",
    "- exchange rate from currency X to euros is 0.05 (1 X become 0.05 Euros)\n",
    "\n",
    "*Hints:*\n",
    "\n",
    "- Ask the user for the amount of dollars using input function and save the user’s input into a variable called `amount`. Don’t forget that input function returns strings that should be converted to numbers.\n",
    "- Create two variables for conversion rates\n",
    "- Multiply the amount of dollars by conversion rate from dollars to currency X and then multiply the result by conversion rate from currency X to euros\n",
    "- Output the result using function print"
   ]
  },
  {
   "cell_type": "code",
   "execution_count": null,
   "id": "f5a1650c-ddcc-4663-842c-085e842f2f1e",
   "metadata": {},
   "outputs": [],
   "source": []
  },
  {
   "cell_type": "markdown",
   "id": "fdedd272-117b-4848-a6da-fb18f26550d5",
   "metadata": {},
   "source": [
    "### Task 4 \n",
    "- Create a function called `circle` which asks the user for a radius of a circle, and outputs the area and circumference of that circle.\n",
    "\n",
    "*Hints:*\n",
    "\n",
    "- Ask the user for a radius using input function and save the user’s input into a variable called `radius`. Don’t forget that input function returns strings that should be converted to numbers (floating-point in this case) for arithmetic operations.\n",
    "- Calculate the area using the formula: S = 3.14 radius radius and store the result in a variable.\n",
    "- Calculate the circumference using the formula: L = 2 3.14 radius and store the result in a variable.\n",
    "- Output both results using function print. You can try to print the answer in a form: “The area is X, the circumference is Y”, where is X is the calculated area and Y is the calculated circumference - function print can output as many values as you want."
   ]
  },
  {
   "cell_type": "code",
   "execution_count": null,
   "id": "11418182-989d-44ff-892d-cb1bd20444d2",
   "metadata": {},
   "outputs": [],
   "source": []
  },
  {
   "cell_type": "markdown",
   "id": "4ba6ad9d-ae19-45d4-834b-6f9370ef54e8",
   "metadata": {},
   "source": [
    "### Task 5 - with if condition\n",
    "\n",
    "- Create a function called `big number` which asks the user for two integer numbers and prints the bigger one.\n",
    "\n",
    "*Hints:*\n",
    "\n",
    "- Ask the user for a first number using input function and save the user’s input into a variable. Don’t forget that input function returns strings that should be converted to numbers (integer in this case).\n",
    "- Ask the user for a second number using input function and save the user’s input into a variable. Don’t forget that input function returns strings that should be converted to numbers (integer in this case).\n",
    "- Using the conditionals (if-else construction) output either first or second variable depending on which one is bigger. To define a condition use comparison operators (operator > in this case)\n"
   ]
  },
  {
   "cell_type": "code",
   "execution_count": null,
   "id": "df76908d-1c5f-4197-8ca6-a4759f2155b2",
   "metadata": {},
   "outputs": [],
   "source": []
  },
  {
   "cell_type": "markdown",
   "id": "16d8e172-0abb-4d5c-a01a-4ba3a7552b37",
   "metadata": {},
   "source": [
    "### Task 6 - with if condition\n",
    "- Write a function called `was_it_sunny` that takes in a boolean argument `it_was`\n",
    "- The function prints \"yes\" if the parameter value was True and \"no\" otherwise. \n",
    "- Call this function twice, once with the value `True` and once with `False`, and print the outputs of these calls."
   ]
  },
  {
   "cell_type": "code",
   "execution_count": null,
   "id": "d2e947b6-a1d5-4b58-b383-f52615c147b1",
   "metadata": {},
   "outputs": [],
   "source": []
  },
  {
   "cell_type": "markdown",
   "id": "5a1695c4-1c5f-418d-b20e-0e8772ab9ae7",
   "metadata": {},
   "source": [
    "### Task 7 - with nested if\n",
    "\n",
    "- Create a function called `timefor` which asks the user for the current hour (a number from 0 to 23). Depending on the user’s input, the program should print:\n",
    "\n",
    "    - “It’s breakfast time” if the hour is between 7 and 11\n",
    "    - “It’s lunch time” if the hour is between 12 and 16\n",
    "    - “It’s dinner time” if the hour is between 17 and 22\n",
    "    - “It’s sleeping time” if the hour is between 23 and 6 What if user enters a negative number like -1 or big number like 53? Try to handle this situation in your program\n",
    "\n",
    "*Hints:*\n",
    "\n",
    "- Ask the user for a hour using input function and save the user’s input into a variable. Don’t forget that input function returns strings that should be converted to numbers (integer in this case).\n",
    "- Using the conditionals (if-elif-else construction) output either of four lines depending on the result of comparison of the number given by the user to the given numbers (7, 11, 16, 22)\n",
    "- To ensure that the user input is correct (the number is between 0 and 23) you can use another conditional right after user’s input: if the number is within the given interval - program continues, otherwise - prints the error message and finishes.\n"
   ]
  },
  {
   "cell_type": "code",
   "execution_count": null,
   "id": "52e6c69f-a7b0-478b-9426-b6d1caaf06bb",
   "metadata": {},
   "outputs": [],
   "source": []
  },
  {
   "cell_type": "markdown",
   "id": "4ed24bb8-0c36-4a31-86f1-e250525b738e",
   "metadata": {},
   "source": [
    "### Task 8 - with for loop\n",
    "- Create a list with the first names of your breakout room group, and assign this to the variable called `first_names`.\n",
    "- Modify your \"greet\" function, that returns for each name in `first_names` with sting Hello , \"Hello, name\"\n",
    "\n",
    " *Hint: Use for loop*\n"
   ]
  },
  {
   "cell_type": "code",
   "execution_count": null,
   "id": "b79d6a77-184a-445b-8923-fbc847fde627",
   "metadata": {},
   "outputs": [],
   "source": []
  },
  {
   "cell_type": "markdown",
   "id": "c25b4366-50e2-4601-ac65-d4aca73ccde1",
   "metadata": {},
   "source": [
    "### Task 9\n",
    "- Write a function called `fruits` that takes in 3 values (apple, banana, cherry) and returns a list containing those three values."
   ]
  },
  {
   "cell_type": "code",
   "execution_count": null,
   "id": "d4a1d567-ffd5-4ea0-8505-57a0d8366595",
   "metadata": {},
   "outputs": [],
   "source": []
  },
  {
   "cell_type": "markdown",
   "id": "f21df35b-15c3-49d5-bc46-cfd9ba3320cc",
   "metadata": {},
   "source": [
    "### Task 10 - with if condition\n",
    "\n",
    "- Write a function called `longer_string` that takes in two _strings_ and returns the longer of the two. If they are the same length, return the first string."
   ]
  },
  {
   "cell_type": "code",
   "execution_count": null,
   "id": "4b006212-2606-4372-a961-7250f2646736",
   "metadata": {},
   "outputs": [],
   "source": []
  },
  {
   "cell_type": "markdown",
   "id": "facd5def-b9e4-48a4-ae44-2faf17ec0dbf",
   "metadata": {},
   "source": [
    "### Task 11 - with if condition\n",
    "\n",
    "- Write a function called `is_odd` that takes in an _integer_ and returns `True` if the number is odd and `False` otherwise.\n",
    "\n",
    "*Hint: look up what the modulo (`%`) operator in Python is and use it to determine if a number is odd or even. Remember the exercise in previous lesson below*\n",
    "\n",
    "```python\n",
    "numbers = (1, 2, 3, 4, 5, 6, 7, 8, 9) # Declaring the tuple\n",
    "count_odd = 0\n",
    "count_even = 0\n",
    "even=[]\n",
    "odd=[]\n",
    "for x in numbers:\n",
    "        if not x % 2:\n",
    "            count_even+=1\n",
    "            print(\"Even\", x)  \n",
    "        else:\n",
    "            count_odd+=1\n",
    "            print(\"Odd\",x)                  \n",
    "print(\"Number of even numbers :\",count_even)\n",
    "print(\"Number of odd numbers :\",count_odd)\n",
    "```"
   ]
  },
  {
   "cell_type": "code",
   "execution_count": null,
   "id": "4a67e0df-27e2-49b1-8ed5-014d513cc9af",
   "metadata": {},
   "outputs": [],
   "source": []
  },
  {
   "cell_type": "markdown",
   "id": "662c9976-5d2e-45bb-aa21-f4b43bd98af0",
   "metadata": {},
   "source": [
    "### Task 12 (parts 1, 2) - with for and while loop\n",
    "\n",
    "- Write a function called `hello_world_n` that takes in an integer `n` and prints \"Hello, world!\" `n` times.\n",
    "\n",
    "1. do this using a `for` loop\n",
    "2. do this using a `while` loop"
   ]
  },
  {
   "cell_type": "code",
   "execution_count": null,
   "id": "742819ab-7310-4b43-9576-d1c6b5f0989e",
   "metadata": {},
   "outputs": [],
   "source": []
  },
  {
   "cell_type": "markdown",
   "id": "4c25339e-6b35-4776-8fa0-06a2183e4191",
   "metadata": {},
   "source": [
    "### Task 13 - with for loop\n",
    "\n",
    "- Write a function called `sum_list` that takes in a list of integers (i.e. `[3, 0, 10, 4, 5, 3]`) and returns the sum of them.\n"
   ]
  },
  {
   "cell_type": "code",
   "execution_count": null,
   "id": "d1925175-ddf3-4539-a97c-3c8db2a6a212",
   "metadata": {},
   "outputs": [],
   "source": []
  },
  {
   "cell_type": "markdown",
   "id": "f8cb1cea-fefe-4d71-928b-076f34afe012",
   "metadata": {},
   "source": [
    "### Task 14 - with if and for\n",
    "\n",
    "- Write a function called `sentenceandword` which asks to the user a text and a word, and remove from the text all the letters that appear in the word, then prints it\n",
    "\n",
    "Example:\n",
    "\n",
    "    - tell me a sentence: The cat is on the table\n",
    "    - tell me a word: apple\n",
    "    - Result: Th ct is on th tb\n",
    "\n",
    "*Hints:*\n",
    "\n",
    "- Ask the user for a sentence using input function and save the user’s input into a variable called `sentence`.\n",
    "- Ask the user for a word using input function and save the user’s input into a variable called `word`.\n",
    "- Use for loop to iterate every letter in the sentence\n",
    "- Use if condition to check wether the letter exists in the word. To check whether a letter is into a string, you can use in: print('p' in 'apple') # True\n",
    "- Print out not existed letters as the output of the function"
   ]
  },
  {
   "cell_type": "code",
   "execution_count": null,
   "id": "22cf2028-b3be-43ee-b00e-924ed6687533",
   "metadata": {},
   "outputs": [],
   "source": []
  },
  {
   "cell_type": "markdown",
   "id": "cd1cae21-09a7-4803-9624-06ae22f15bfd",
   "metadata": {},
   "source": [
    "### Task 15 - with if and for\n",
    "- Write a Python program to print the even numbers from a given list. \n",
    "\n",
    "Sample List : [1, 2, 3, 4, 5, 6, 7, 8, 9]\n",
    "\n",
    "Expected Result : [2, 4, 6, 8]"
   ]
  },
  {
   "cell_type": "code",
   "execution_count": null,
   "id": "2deebec8-dad7-415e-99e0-695e688831ab",
   "metadata": {},
   "outputs": [],
   "source": []
  },
  {
   "cell_type": "markdown",
   "id": "2c082c54-6b88-45d4-9c1d-96e02aac635d",
   "metadata": {},
   "source": [
    "### Task 16 (parts 1, 2)\n",
    "\n",
    "1. Write a function called `greater` that takes in a list of integers (i.e. `[3, 0, 10, 4, 5, 3]`) and prints the value of each element greater than 4.\n",
    "For example:\n",
    "\n",
    "- input: `[3, 0, 10, 4, 5, 3]`\n",
    "  ```python\n",
    "  # output:\n",
    "  # 10\n",
    "  # 5\n",
    "  ```\n",
    "- input: `[4, 5, 6, 6, 5, 4]`\n",
    "\n",
    "  ```python\n",
    "  # output:\n",
    "  # 5\n",
    "  # 6\n",
    "  # 6\n",
    "  # 5\n",
    "  ```\n",
    "\n",
    "- input: `[4, 3, 2, 1]`\n",
    "\n",
    "  ```python\n",
    "  # no output\n",
    "  ```\n",
    "\n",
    "\n",
    "2. change your function to take in a second parameter, `min_val`. Now, print all values in the list greater than this value.\n",
    "\n",
    "Example input: `[4, 3, 2, 1]`, `2`\n",
    "\n",
    "```python\n",
    "    # output:\n",
    "    # 4\n",
    "    # 3\n",
    "```"
   ]
  },
  {
   "cell_type": "code",
   "execution_count": null,
   "id": "eb7f75fe-25b6-48e2-ad03-966811240da5",
   "metadata": {},
   "outputs": [],
   "source": []
  },
  {
   "cell_type": "markdown",
   "id": "48d0e829-0123-4fcd-b75b-6e50c651b470",
   "metadata": {},
   "source": [
    "_Note: Bonus questions are optional and meant to be challenging! :)_\n",
    "\n",
    "### Bonus 0 (parts 1, 2)\n",
    "\n",
    "_Note: this one is optional and meant to be challenging! :)_\n",
    "\n",
    "Like with task 10, do not use the Python function `max` in your function, but you can use this to test it out!\n",
    "\n",
    "1. Write a function called `largest` that takes in a list of integers (i.e. `[3, 0, 10, 4, 5, 3]`) and returns largest value in the list.\n",
    "2. Write a function called `longest` that takes in a list of strings (i.e. `['a', 'asdf', '']`) and returns the longest string in the list.\n"
   ]
  },
  {
   "cell_type": "code",
   "execution_count": null,
   "id": "2e993eb5-d914-4109-92ac-b48c06737ad2",
   "metadata": {},
   "outputs": [],
   "source": []
  },
  {
   "cell_type": "markdown",
   "id": "eecf55eb-4b34-4082-a41f-8e1e3a9278d7",
   "metadata": {},
   "source": [
    "### Bonus 1 (parts 1, 2, 3) \n",
    "\n",
    "\n",
    "1. Write a function that takes in an integer and prints all numbers below it that are divisible by 3.\n",
    "\n",
    "   Example input: `12`\n",
    "\n",
    "   ```python\n",
    "   # output:\n",
    "   # 0\n",
    "   # 3\n",
    "   # 6\n",
    "   # 9\n",
    "   ```\n",
    "\n",
    "2) Modify the function to return how many numbers are divisible by 3, in addition to printing each number. (i.e. the returned value for the example input above would be `4` (0, 3, 6, 9)).\n",
    "3) Modify this function to make it general -- if the function takes in `n` and `k`, find out how many numbers less than `n` are divisible by `k`.\n",
    "\n",
    "   Example input: `8`, `2`\n",
    "\n",
    "   ```python\n",
    "   # output:\n",
    "   # 0\n",
    "   # 2\n",
    "   # 4\n",
    "   # 6\n",
    "   # returns 4\n",
    "   ```"
   ]
  },
  {
   "cell_type": "code",
   "execution_count": null,
   "id": "fc60484b-c5fe-4e9b-a0bc-9a0c8ea2d50e",
   "metadata": {},
   "outputs": [],
   "source": []
  },
  {
   "cell_type": "markdown",
   "id": "3831f2be-49ae-4bdf-a2f4-940415e32c70",
   "metadata": {},
   "source": [
    "### Bonus 2\n",
    "- Write a program which asks to the user a list of words and prints the words appearing more than once\n",
    "\n",
    "Example:\n",
    "\n",
    "Input: three bottle bag park cup bag hammer\n",
    "\n",
    "Output: bag\n",
    "\n",
    "*Hint: To get a list of strings, you can use split and pass a space:*\n",
    "\n",
    "- words = input('tell me some words').split(' ') \n",
    "\n",
    "*Remember: you can sort lists of strings, not only numbers!*"
   ]
  },
  {
   "cell_type": "code",
   "execution_count": null,
   "id": "ea8d0995-a523-4972-bf3c-0b7a3a04dd4c",
   "metadata": {},
   "outputs": [],
   "source": []
  },
  {
   "cell_type": "markdown",
   "id": "2b00d99a-a29b-49da-9371-8a70ab464074",
   "metadata": {},
   "source": [
    "### Bonus 3\n",
    "- Write a function that takes as input a list of strings and returns the longest string\n",
    "\n",
    "Example:\n",
    "\n",
    "    - Input: ['hello', 'check', 'amazing']\n",
    "    - Output: 'amazing'\n",
    "    - Input: ['lol', 'wow', 'great']\n",
    "    - Output: 'great'"
   ]
  },
  {
   "cell_type": "code",
   "execution_count": null,
   "id": "b8531eec-12ff-4823-9b68-62732a7df82f",
   "metadata": {},
   "outputs": [],
   "source": []
  },
  {
   "cell_type": "markdown",
   "id": "0fa20061-9cde-472f-806a-24210c6ddaab",
   "metadata": {},
   "source": [
    "### Bonus 4\n",
    "- Write a function that gets a number n as input and it prints all numbers from 1 till n on one line. \n",
    "\n",
    "Example:\n",
    "\n",
    "    - Input: 5,\n",
    "    - Output (displayed): 1 2 3 4 5\n",
    "    - Input: 3\n",
    "    - Output (displayed): 1 2 3"
   ]
  },
  {
   "cell_type": "code",
   "execution_count": null,
   "id": "296300a5-ddce-4a47-8e91-ad5ebb223770",
   "metadata": {},
   "outputs": [],
   "source": []
  },
  {
   "cell_type": "markdown",
   "id": "eb46ac21-14f9-4bb4-9bc3-17b13c8bdf91",
   "metadata": {},
   "source": [
    "### Bonus 5\n",
    "\n",
    "- Write a function that takes a number n as input and prints a pyramid of numbers as in the examples below\n",
    "\n",
    "    - Input: 4\n",
    "    - Output: \n",
    "    \n",
    "        1 \n",
    "        \n",
    "        1 2\n",
    "        \n",
    "        1 2 3\n",
    "        \n",
    "        1 2 3 4\n",
    "        "
   ]
  },
  {
   "cell_type": "code",
   "execution_count": null,
   "id": "a479c47b-3070-4c9a-93ed-3b0bbb70c073",
   "metadata": {},
   "outputs": [],
   "source": []
  }
 ],
 "metadata": {
  "kernelspec": {
   "display_name": "Python 3 (ipykernel)",
   "language": "python",
   "name": "python3"
  },
  "language_info": {
   "codemirror_mode": {
    "name": "ipython",
    "version": 3
   },
   "file_extension": ".py",
   "mimetype": "text/x-python",
   "name": "python",
   "nbconvert_exporter": "python",
   "pygments_lexer": "ipython3",
   "version": "3.9.7"
  }
 },
 "nbformat": 4,
 "nbformat_minor": 5
}
