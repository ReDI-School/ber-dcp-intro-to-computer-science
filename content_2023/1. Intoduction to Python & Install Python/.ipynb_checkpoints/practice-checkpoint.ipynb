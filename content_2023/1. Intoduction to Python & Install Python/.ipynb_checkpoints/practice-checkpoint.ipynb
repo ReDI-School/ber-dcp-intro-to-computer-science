{
 "cells": [
  {
   "cell_type": "code",
   "execution_count": 1,
   "id": "c60205e8-a935-4e3e-a4c2-a430934c2c49",
   "metadata": {},
   "outputs": [
    {
     "name": "stdout",
     "output_type": "stream",
     "text": [
      "Hello, World!\n"
     ]
    }
   ],
   "source": [
    "print(\"Hello, World!\")"
   ]
  },
  {
   "cell_type": "markdown",
   "id": "d5ca5e80-6bac-475e-aa5f-f59589539920",
   "metadata": {},
   "source": [
    "### \"Interactive Programming\""
   ]
  },
  {
   "cell_type": "code",
   "execution_count": null,
   "id": "aca207ac-877f-46cc-9eb8-ae598eef8c94",
   "metadata": {},
   "outputs": [
    {
     "name": "stdout",
     "output_type": "stream",
     "text": [
      "Enter your name\n"
     ]
    }
   ],
   "source": [
    "print('Enter your name')\n",
    "name = input()\n",
    "print('Hello, ')\n",
    "print(name)\n"
   ]
  },
  {
   "cell_type": "code",
   "execution_count": null,
   "id": "c7e2528a-57a8-491d-84e8-a30d3d852457",
   "metadata": {},
   "outputs": [],
   "source": [
    "name = input('Enter your name\\n')\n",
    "age = int(input('Enter your age\\n'))\n",
    "\n",
    "print('Hello,', name)\n",
    "print('In 5 years you\\'ll be', age + 5)"
   ]
  },
  {
   "cell_type": "code",
   "execution_count": null,
   "id": "a9b9253b-b8f2-423d-9647-73370cd80fea",
   "metadata": {},
   "outputs": [],
   "source": []
  }
 ],
 "metadata": {
  "kernelspec": {
   "display_name": "Python 3 (ipykernel)",
   "language": "python",
   "name": "python3"
  },
  "language_info": {
   "codemirror_mode": {
    "name": "ipython",
    "version": 3
   },
   "file_extension": ".py",
   "mimetype": "text/x-python",
   "name": "python",
   "nbconvert_exporter": "python",
   "pygments_lexer": "ipython3",
   "version": "3.9.7"
  }
 },
 "nbformat": 4,
 "nbformat_minor": 5
}
