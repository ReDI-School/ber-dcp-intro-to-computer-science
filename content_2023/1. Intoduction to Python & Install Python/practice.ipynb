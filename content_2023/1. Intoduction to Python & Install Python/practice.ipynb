{
 "cells": [
  {
   "cell_type": "code",
   "execution_count": 4,
   "id": "c60205e8-a935-4e3e-a4c2-a430934c2c49",
   "metadata": {},
   "outputs": [
    {
     "name": "stdout",
     "output_type": "stream",
     "text": [
      "Hello, World!\n",
      "Hello my name is Nesli\n"
     ]
    }
   ],
   "source": [
    "print(\"Hello, World!\")\n",
    "print(\"Hello my name is Nesli\")"
   ]
  },
  {
   "cell_type": "code",
   "execution_count": 4,
   "id": "db3d4e84-c78a-49b4-96d4-6a7a47d0b6da",
   "metadata": {},
   "outputs": [
    {
     "name": "stdout",
     "output_type": "stream",
     "text": [
      "Hello, World!\n",
      "Hello my name is Nesli\n"
     ]
    }
   ],
   "source": [
    "print(\"Hello, World!\")\n",
    "print(\"Hello my name is Nesli\")"
   ]
  },
  {
   "cell_type": "code",
   "execution_count": 5,
   "id": "114cbc20-ad0c-45e4-9744-d05911792524",
   "metadata": {},
   "outputs": [
    {
     "name": "stdout",
     "output_type": "stream",
     "text": [
      "good evening\n"
     ]
    }
   ],
   "source": [
    "print(\"good evening\")"
   ]
  },
  {
   "cell_type": "markdown",
   "id": "c811e4ea-4571-4422-ac39-2b785e62ab48",
   "metadata": {},
   "source": [
    "# Title"
   ]
  },
  {
   "cell_type": "markdown",
   "id": "d5ca5e80-6bac-475e-aa5f-f59589539920",
   "metadata": {},
   "source": [
    "### \"Interactive Programming\""
   ]
  },
  {
   "cell_type": "code",
   "execution_count": 6,
   "id": "e80f873e-bc1d-4bb5-a02e-5db278bf6320",
   "metadata": {},
   "outputs": [
    {
     "name": "stdout",
     "output_type": "stream",
     "text": [
      "enter your name:\n"
     ]
    },
    {
     "name": "stdin",
     "output_type": "stream",
     "text": [
      " Neslihan \n"
     ]
    },
    {
     "name": "stdout",
     "output_type": "stream",
     "text": [
      "Neslihan \n"
     ]
    }
   ],
   "source": [
    "print(\"enter your name:\")\n",
    "asdsfdgfh=input()\n",
    "print(asdsfdgfh)"
   ]
  },
  {
   "cell_type": "code",
   "execution_count": 2,
   "id": "aca207ac-877f-46cc-9eb8-ae598eef8c94",
   "metadata": {},
   "outputs": [
    {
     "name": "stdout",
     "output_type": "stream",
     "text": [
      "Enter your name\n"
     ]
    },
    {
     "name": "stderr",
     "output_type": "stream",
     "text": [
      "\n",
      "KeyboardInterrupt\n",
      "\n"
     ]
    }
   ],
   "source": [
    "print('Enter your name')\n",
    "name = input()\n",
    "print('Hello, ')\n",
    "print(name)\n"
   ]
  },
  {
   "cell_type": "code",
   "execution_count": null,
   "id": "c7e2528a-57a8-491d-84e8-a30d3d852457",
   "metadata": {},
   "outputs": [],
   "source": [
    "your_name = input('Enter your name\\n')\n",
    "your_age = int(input('Enter your age\\n'))\n",
    "\n",
    "print('Hello,', name)\n",
    "print('In 5 years you\\'ll be', age + 5)"
   ]
  },
  {
   "cell_type": "code",
   "execution_count": 7,
   "id": "a9b9253b-b8f2-423d-9647-73370cd80fea",
   "metadata": {},
   "outputs": [
    {
     "name": "stdin",
     "output_type": "stream",
     "text": [
      "Enter your name\n",
      " Patrick\n"
     ]
    }
   ],
   "source": [
    "your_name = input('Enter your name\\n')"
   ]
  },
  {
   "cell_type": "code",
   "execution_count": 8,
   "id": "a15fcd59-717b-4c00-80b6-caf16739cd7e",
   "metadata": {},
   "outputs": [
    {
     "name": "stdout",
     "output_type": "stream",
     "text": [
      "Patrick\n"
     ]
    }
   ],
   "source": [
    "print(your_name)"
   ]
  },
  {
   "cell_type": "code",
   "execution_count": 10,
   "id": "e7252b2e-01ad-4f1c-82cf-89bb79fd0bcd",
   "metadata": {},
   "outputs": [
    {
     "name": "stdin",
     "output_type": "stream",
     "text": [
      "Enter your age\n",
      " 20\n"
     ]
    }
   ],
   "source": [
    "your_age = int(input('Enter your age\\n'))"
   ]
  },
  {
   "cell_type": "code",
   "execution_count": 11,
   "id": "63043197-4334-4366-94ea-4109a3d856ff",
   "metadata": {},
   "outputs": [
    {
     "name": "stdout",
     "output_type": "stream",
     "text": [
      "hello Patrick\n"
     ]
    }
   ],
   "source": [
    "print(\"hello\", your_name)"
   ]
  },
  {
   "cell_type": "code",
   "execution_count": 12,
   "id": "26b6982a-4fb7-4e97-ba16-6b2862bb33d9",
   "metadata": {},
   "outputs": [
    {
     "name": "stdout",
     "output_type": "stream",
     "text": [
      "23\n"
     ]
    }
   ],
   "source": [
    "#your sister is 3 years older than you, what is her age in 5 years?\n",
    "sister_age=your_age + 3\n",
    "print(sister_age)"
   ]
  },
  {
   "cell_type": "code",
   "execution_count": 13,
   "id": "f3eed606-e242-400f-b4a8-ccdc6b87df5f",
   "metadata": {},
   "outputs": [
    {
     "name": "stdout",
     "output_type": "stream",
     "text": [
      "in 5 years your sister will be 28\n"
     ]
    }
   ],
   "source": [
    "print(\"in 5 years your sister will be\", sister_age + 5 )"
   ]
  },
  {
   "cell_type": "code",
   "execution_count": 15,
   "id": "6ee54abe-ab18-4b96-b194-9c477edf87dc",
   "metadata": {},
   "outputs": [
    {
     "data": {
      "text/plain": [
       "28"
      ]
     },
     "execution_count": 15,
     "metadata": {},
     "output_type": "execute_result"
    }
   ],
   "source": [
    "20 + 3 + 5"
   ]
  },
  {
   "cell_type": "code",
   "execution_count": null,
   "id": "13281488-43a7-4dbb-aca4-17a8e04e5997",
   "metadata": {},
   "outputs": [],
   "source": []
  }
 ],
 "metadata": {
  "kernelspec": {
   "display_name": "Python 3 (ipykernel)",
   "language": "python",
   "name": "python3"
  },
  "language_info": {
   "codemirror_mode": {
    "name": "ipython",
    "version": 3
   },
   "file_extension": ".py",
   "mimetype": "text/x-python",
   "name": "python",
   "nbconvert_exporter": "python",
   "pygments_lexer": "ipython3",
   "version": "3.9.7"
  }
 },
 "nbformat": 4,
 "nbformat_minor": 5
}
