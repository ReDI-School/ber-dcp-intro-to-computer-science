{
 "cells": [
  {
   "cell_type": "markdown",
   "id": "7c7b2f7f-b6ba-443f-ba4b-45f938fbaaaf",
   "metadata": {
    "pycharm": {
     "name": "#%% md\n"
    }
   },
   "source": [
    "## Fist Python Script"
   ]
  },
  {
   "cell_type": "code",
   "execution_count": 1,
   "id": "84da9f96-c883-4cda-8c64-7b17808b2f2a",
   "metadata": {
    "pycharm": {
     "name": "#%%\n"
    }
   },
   "outputs": [
    {
     "name": "stdout",
     "output_type": "stream",
     "text": [
      "Good evening!\n"
     ]
    }
   ],
   "source": [
    "print(\"Good evening!\")"
   ]
  },
  {
   "cell_type": "markdown",
   "id": "f33ad36d-12c2-4b8c-a351-e48b808fbe95",
   "metadata": {
    "pycharm": {
     "name": "#%% md\n"
    }
   },
   "source": [
    "### Excercise\n",
    "1. write code that outputs \"Hello, World!\""
   ]
  },
  {
   "cell_type": "code",
   "execution_count": null,
   "id": "e634d243-7a03-4dca-9697-5334ac531bd2",
   "metadata": {
    "pycharm": {
     "name": "#%%\n"
    }
   },
   "outputs": [],
   "source": []
  },
  {
   "cell_type": "markdown",
   "id": "8580bfb0-55f1-4da7-a11b-56ac1d29f89a",
   "metadata": {
    "pycharm": {
     "name": "#%% md\n"
    }
   },
   "source": [
    "## Interactive Programming"
   ]
  },
  {
   "cell_type": "markdown",
   "id": "bfe49eb0-5b61-461e-8131-b5340729ce49",
   "metadata": {
    "pycharm": {
     "name": "#%% md\n"
    }
   },
   "source": [
    "### Excercise"
   ]
  },
  {
   "cell_type": "code",
   "execution_count": 2,
   "id": "c5a31053-d3c9-412c-9b31-24889647a895",
   "metadata": {
    "pycharm": {
     "name": "#%%\n"
    }
   },
   "outputs": [],
   "source": [
    "print('Enter your name')\n",
    "name = input()\n",
    "print('Hello, ')\n",
    "print(name)"
   ]
  },
  {
   "cell_type": "markdown",
   "id": "5c879ed4-9785-4a76-a0bc-aa2b486d4ab1",
   "metadata": {
    "pycharm": {
     "name": "#%% md\n"
    }
   },
   "source": [
    "### Excercise"
   ]
  },
  {
   "cell_type": "code",
   "execution_count": null,
   "id": "56c9a714-dd9f-43b6-87fe-8158d2ee9268",
   "metadata": {
    "pycharm": {
     "name": "#%%\n"
    }
   },
   "outputs": [],
   "source": [
    "name = input('Enter your name\\n')\n",
    "age = int(input('Enter your age\\n'))\n",
    "\n",
    "print('Hello,', name,)\n",
    "print('In 5 years you\\'ll be', age + 5)"
   ]
  }
 ],
 "metadata": {
  "kernelspec": {
   "display_name": "Python 3.9.12 ('base': conda)",
   "language": "python",
   "name": "python3"
  },
  "language_info": {
   "codemirror_mode": {
    "name": "ipython",
    "version": 3
   },
   "file_extension": ".py",
   "mimetype": "text/x-python",
   "name": "python",
   "nbconvert_exporter": "python",
   "pygments_lexer": "ipython3",
   "version": "3.9.12"
  },
  "vscode": {
   "interpreter": {
    "hash": "2d63cf38a8ddc3101a2c0f32b71647b4096a78b8efd4c1bbcf73ffeaf57c27fa"
   }
  }
 },
 "nbformat": 4,
 "nbformat_minor": 5
}