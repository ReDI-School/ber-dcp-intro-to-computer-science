{
 "cells": [
  {
   "cell_type": "markdown",
   "id": "782dfb9f-b24b-4025-b7fa-9c2c880fd39d",
   "metadata": {},
   "source": [
    "## Homework 2\n"
   ]
  },
  {
   "cell_type": "markdown",
   "id": "c72929f4-b0da-4c3b-88b5-30ce48d4be44",
   "metadata": {},
   "source": [
    "### Task 1\n",
    "\n",
    "- Create a list with the first names of your breakout room group, and assign this to the variable `first_names`. Print the list.\n",
    "- Print out the value of the second name in `first_names`. (Hint: use the bracket notation asa with strings.)\n",
    "- Print the length of the list of names.\n",
    "- Create a slice of the list containing the first two names and print this slice."
   ]
  },
  {
   "cell_type": "code",
   "execution_count": 15,
   "id": "5bb122d3-946e-4970-a628-4706ea2defc1",
   "metadata": {},
   "outputs": [
    {
     "name": "stdout",
     "output_type": "stream",
     "text": [
      "Nesli\n",
      "4\n",
      "['Theo', 'Patrick']\n"
     ]
    }
   ],
   "source": [
    "first_names=[\"Nesli\", \"Theo\", \"Patrick\", \"John\"]\n",
    "print(first_names[0])\n",
    "print(len(first_names))\n",
    "print(first_names[1:3])"
   ]
  },
  {
   "cell_type": "markdown",
   "id": "dd638add-88ac-4e7b-ab46-ba1150b37a5e",
   "metadata": {},
   "source": [
    "### Task 2 - Appending and removing elements from a list\n",
    "\n",
    "There are several methods that you can use with lists. The `.append()` method adds an item to a list, while the `.remove()` method removes an item from the list:\n",
    "\n",
    "```py\n",
    "fruits = ['apple','banana','orange']\n",
    "fruits.append('mango')\n",
    "# value of fruits is now: ['apple','banana','orange','mango']\n",
    "fruits.remove('banana')\n",
    "# value of fruits is now: ['apple','orange','mango']\n",
    "```\n",
    "\n",
    "- Using the list of your names (`first_names`), add one name and print the list.\n",
    "- Using the list of your names (`first_names`), remove one name and print the list."
   ]
  },
  {
   "cell_type": "code",
   "execution_count": 3,
   "id": "2b796072-536a-45dd-aa4b-7213bc0252e3",
   "metadata": {},
   "outputs": [
    {
     "name": "stdout",
     "output_type": "stream",
     "text": [
      "['Nesli', 'Theo', 'Patrick', 'John', 'Felix']\n"
     ]
    }
   ],
   "source": [
    "first_names.append(\"Felix\")\n",
    "print(first_names)"
   ]
  },
  {
   "cell_type": "code",
   "execution_count": 4,
   "id": "e384be17-e7d4-4135-b5ef-06badb79e82d",
   "metadata": {},
   "outputs": [
    {
     "name": "stdout",
     "output_type": "stream",
     "text": [
      "['Theo', 'Patrick', 'John', 'Felix']\n"
     ]
    }
   ],
   "source": [
    "first_names.remove(\"Nesli\")\n",
    "print(first_names)"
   ]
  },
  {
   "cell_type": "markdown",
   "id": "3fd37aa8-96a7-46a5-bd38-35d77311536f",
   "metadata": {},
   "source": [
    "### Task 3 - Dictionaries\n",
    "\n",
    "- Create a dictionary called `person` with the keys `first_name` amd `last_name` and give them some values. Print out the dictionary.\n",
    "- In the `person` dictionary, assign the `job` key to the value `programmer`, and print out the dictionary.\n",
    "- Access and print out the value of the `first_name` key in the `person` dictionary.\n",
    "- Print out the keys, values, and items in the `person` dictionary."
   ]
  },
  {
   "cell_type": "code",
   "execution_count": 6,
   "id": "998059af-7a3c-48b6-9257-eb785201f041",
   "metadata": {},
   "outputs": [
    {
     "name": "stdout",
     "output_type": "stream",
     "text": [
      "{'first_name': 'Neslihan', 'last_name': 'Keskin'}\n",
      "{'first_name': 'Neslihan', 'last_name': 'Keskin', 'job': 'programmer'}\n",
      "Neslihan\n",
      "['first_name', 'last_name', 'job']\n",
      "['Neslihan', 'Keskin', 'programmer']\n",
      "[('first_name', 'Neslihan'), ('last_name', 'Keskin'), ('job', 'programmer')]\n"
     ]
    }
   ],
   "source": [
    "person= {\"first_name\" : \"Neslihan\", \"last_name\" : \"Keskin\"}\n",
    "print(person)\n",
    "person['job'] = 'programmer'\n",
    "print(person)\n",
    "print(person[\"first_name\"])\n",
    "print(list(person.keys()))\n",
    "print(list(person.values()))\n",
    "print(list(person.items()))"
   ]
  },
  {
   "cell_type": "markdown",
   "id": "fcf098b3-7dd0-4844-a094-710b8c906d75",
   "metadata": {},
   "source": [
    "\n",
    "### Task 4 - Booleans\n",
    "\n",
    "- Create a variable called `boolean_var` and set it to `False`.\n",
    "- Print the value of the opposite of `boolean_var` (using `not`)."
   ]
  },
  {
   "cell_type": "code",
   "execution_count": 8,
   "id": "3a312406-5737-4e25-8609-91ba0625eb88",
   "metadata": {},
   "outputs": [
    {
     "name": "stdout",
     "output_type": "stream",
     "text": [
      "True\n"
     ]
    }
   ],
   "source": [
    "boolean_var=False\n",
    "print(not boolean_var)"
   ]
  },
  {
   "cell_type": "markdown",
   "id": "294e195b-d31f-42a5-b108-cf40dbf1594c",
   "metadata": {},
   "source": [
    "### Task 5 - Comparisons\n",
    "\n",
    "There are many comparison operators in Python. All of these operators return a boolean `True` or `False` value.\n",
    "\n",
    "Note that you can assign a boolean expression to a variable:\n",
    "\n",
    "```py\n",
    "a = 1 > 2\n",
    "print(a)\n",
    "# outputs: False\n",
    "```\n",
    "\n",
    "Assign these examples to variables and print them out:\n",
    "\n",
    "- `1 == 1`\n",
    "- `1 == '1'`\n",
    "- `2 != '2'`\n",
    "- `2 < 4`\n",
    "- `2 > 3`\n",
    "- `1 != True`\n",
    "- `0 != False`\n",
    "\n",
    "Were any of these results surprising?"
   ]
  },
  {
   "cell_type": "code",
   "execution_count": 9,
   "id": "79e2a241-0766-4eee-a44f-88ee9973d8fa",
   "metadata": {},
   "outputs": [
    {
     "name": "stdout",
     "output_type": "stream",
     "text": [
      "a is True\n",
      "b is False\n",
      "c is True\n",
      "d is True\n",
      "e is False\n",
      "f is False\n",
      "g is False\n"
     ]
    }
   ],
   "source": [
    "a=1==1\n",
    "print(\"a is\",a)\n",
    "b=1==\"1\"\n",
    "print(\"b is\",b)\n",
    "c=2!=\"2\"\n",
    "print(\"c is\",c)\n",
    "d=2 < 4\n",
    "print(\"d is\",d)\n",
    "e=2 > 3\n",
    "print(\"e is\",e)\n",
    "f=1 != True\n",
    "print(\"f is\",f)\n",
    "g=0 != False\n",
    "print(\"g is\",g)"
   ]
  },
  {
   "cell_type": "markdown",
   "id": "22889cc2-691d-4c76-beba-a5aaffb5f095",
   "metadata": {},
   "source": [
    "### Task 6 - Conditions \n",
    "- Use the definition: `my_list = [1, 2, 3]`. Create an if statement that checks if the last value of the list is equal to 3 and if so, prints \"the condition was true\".\n",
    "- Building off of the above exercise, make the condition false (so that \"the condition was true\" no longer prints).\n",
    "- Now, add an `else` clause that prints \"the condition was false\".\n",
    "- Now, add an `elif` condition that checks if the length of the list is equal to 3 and if so, prints \"the elif condition is true\"."
   ]
  },
  {
   "cell_type": "code",
   "execution_count": 10,
   "id": "8c223d21-2ed7-4e9d-bdd1-d8287131233a",
   "metadata": {},
   "outputs": [
    {
     "name": "stdout",
     "output_type": "stream",
     "text": [
      "the condition was true\n"
     ]
    }
   ],
   "source": [
    "my_list = [1, 2, 3]\n",
    "if my_list[-1]==3:\n",
    "    print(\"the condition was true\")\n",
    "elif len(my_list)==3:\n",
    "    prints (\"the elif condition is true\")\n",
    "else:\n",
    "    print(\"the condition was false\")"
   ]
  },
  {
   "cell_type": "code",
   "execution_count": 11,
   "id": "aab17c08-a904-4b24-b6d2-dbf2224f4797",
   "metadata": {},
   "outputs": [
    {
     "name": "stdout",
     "output_type": "stream",
     "text": [
      "congratulations!\n"
     ]
    }
   ],
   "source": [
    "print(\"Congratulations!\")"
   ]
  }
 ],
 "metadata": {
  "kernelspec": {
   "display_name": "Python 3 (ipykernel)",
   "language": "python",
   "name": "python3"
  },
  "language_info": {
   "codemirror_mode": {
    "name": "ipython",
    "version": 3
   },
   "file_extension": ".py",
   "mimetype": "text/x-python",
   "name": "python",
   "nbconvert_exporter": "python",
   "pygments_lexer": "ipython3",
   "version": "3.9.7"
  },
  "vscode": {
   "interpreter": {
    "hash": "916dbcbb3f70747c44a77c7bcd40155683ae19c65e1c03b4aa3499c5328201f1"
   }
  }
 },
 "nbformat": 4,
 "nbformat_minor": 5
}
