{
 "cells": [
  {
   "cell_type": "markdown",
   "id": "7c7b2f7f-b6ba-443f-ba4b-45f938fbaaaf",
   "metadata": {
    "pycharm": {
     "name": "#%% md\n"
    }
   },
   "source": [
    "# 07 Nov - Control Flow (while and for loops)\n",
    "\n",
    "![python gif](https://media.giphy.com/media/KAq5w47R9rmTuvWOWa/giphy.gif)\n",
    "\n",
    "## Pre Requisites\n",
    "\n",
    "- Review the course content from last class, and try to continue going through the exercises! If you get stuck on any of them, no problem -- make a note of this so we can review these tasks at the beginning of class on Thursday.\n",
    "\n",
    "  {{< button \"../installing_python/\" \"Review 31/March - Installing Python\" >}}\n",
    "\n",
    "- (Optional) create a repository (local and remote) to gather your Python exercises from last class. Add and commit the file to the repository, and then push these to GitHub.\n",
    "- (Optional practice) go through exercises on [w3 schools for Python](https://www.w3schools.com/python/exercise.asp?filename=exercise_syntax1) through `Functions` section OR on particular areas that you would like to review. This is entirely optional but good practice! No need to go over `Lambda`, `Classes`, `Inheritance`, or `Modules` as we have not seen these yet.\n",
    "\n",
    "---\n",
    "\n",
    "## Class Curriculum\n",
    "\n",
    "| Section content                                                     | Expected time (mins) | Pre - Requirements |\n",
    "| ------------------------------------------------------------------- | -------------------- | ------------------ |\n",
    "| Lesson Goals                                                        | 5 minutes            | ❌                 |\n",
    "| Questions from last class & review of a few exercises               | 10-15 minutes        | ❌                 |\n",
    "| Overview of loops (for, while)                                      | 10-15 minutes        | ❌                 |\n",
    "| Hands-on Python exercises (in small groups)                         | 20 minutes           | ❌                 |\n",
    "| Break (in-person troubleshooting of Python installations if needed) | 10 minutes           | ❌                 |\n",
    "| Continue hands-on Python exercises (in small groups)                | rest of class        | ❌                 |\n",
    "| Check-out                                                           | 5 minutes            | ❌                 |\n",
    "\n",
    "## 0. Lesson Goals\n",
    "\n",
    "- Have a working development environment on Python.\n",
    "- Build familiarity with the concepts of control flow (loops, conditionals)\n",
    "- Continue writing code in Python"
   ]
  },
  {
   "cell_type": "markdown",
   "id": "b94ee548",
   "metadata": {
    "pycharm": {
     "name": "#%% md\n"
    }
   },
   "source": [
    "## 1. Check-In\n",
    "\n",
    "- Are there any remaining questions from last class?\n",
    "- What exercises were the most challenging? (Respond in the chat)\n",
    "\n",
    "## 2. for and while loops\n",
    "\n",
    "Loops are a tool that help us execute a block of code a specified amount of times or based on a condition. In Python, there are two loops: `for` and `while` loops.\n",
    "\n",
    "### while loops\n",
    "\n",
    "`while` loops allow us to execute a block of code as long as the condition evaluates to `True`.\n",
    "\n",
    "![loop diagram](../images/loop_diagram.png)\n",
    "\n",
    "_Please excuse the ugly diagram :)_\n",
    "\n",
    "Syntax:\n",
    "\n",
    "```python\n",
    "while condition:\n",
    "    # do things\n",
    "```\n",
    "Examples:\n",
    "```python\n",
    "# This is called an \"infinite loop\" since the condition is always True!!\n",
    "while True:\n",
    "    print(\"I'm an infinite loop! I won't stop unless I'm forced to!\")\n",
    "```"
   ]
  },
  {
   "cell_type": "code",
   "execution_count": 1,
   "id": "01d8f39f",
   "metadata": {
    "collapsed": false,
    "jupyter": {
     "outputs_hidden": false
    },
    "pycharm": {
     "name": "#%%\n"
    }
   },
   "outputs": [
    {
     "name": "stdout",
     "output_type": "stream",
     "text": [
      "hello # 0\n",
      "hello # 1\n",
      "hello # 2\n",
      "hello # 3\n",
      "hello # 4\n",
      "hello # 5\n",
      "hello # 6\n",
      "hello # 7\n",
      "hello # 8\n",
      "hello # 9\n"
     ]
    }
   ],
   "source": [
    "count = 0\n",
    "while count < 10:\n",
    "    print(\"hello #\", count)\n",
    "    # increment the value of `count`\n",
    "    count += 1"
   ]
  },
  {
   "cell_type": "code",
   "execution_count": 2,
   "id": "7895760d",
   "metadata": {
    "collapsed": false,
    "jupyter": {
     "outputs_hidden": false
    },
    "pycharm": {
     "name": "#%%\n"
    }
   },
   "outputs": [
    {
     "name": "stdout",
     "output_type": "stream",
     "text": [
      "you told me: bool\n",
      "you told me: 123\n",
      "you told me: yeah\n",
      "you told me: \n",
      "you told me: \n",
      "you told me: \n",
      "you told me: \n",
      "you told me: \n",
      "you told me: \n",
      "you told me: \n",
      "you told me: \n",
      "you told me: \n",
      "you told me: \n",
      "you told me: \n",
      "you told me: \n",
      "you told me: \n",
      "you told me: \n",
      "you told me: stop\n",
      "... and I'm stopping\n"
     ]
    }
   ],
   "source": [
    "text = ''\n",
    "while text != 'stop':\n",
    "    text = input('Tell me something:\\n')\n",
    "    print('you told me:', text)\n",
    "print('... and I\\'m stopping')"
   ]
  },
  {
   "cell_type": "markdown",
   "id": "3d3d5d74",
   "metadata": {
    "pycharm": {
     "name": "#%% md\n"
    }
   },
   "source": [
    "Check-in question: can someone explain what's going on in each of these examples?"
   ]
  },
  {
   "cell_type": "code",
   "execution_count": 9,
   "id": "a71ac3b1-dd1f-4b6b-ab86-6d315a2a5fbc",
   "metadata": {},
   "outputs": [
    {
     "name": "stdout",
     "output_type": "stream",
     "text": [
      "1\n",
      "2\n",
      "3\n",
      "4\n",
      "5\n",
      "i is no longer less than 6\n"
     ]
    }
   ],
   "source": [
    "#Print a message once the condition is false with else\n",
    "i = 1\n",
    "while i < 6:\n",
    "    print(i)\n",
    "    i += 1\n",
    "else:\n",
    "    print(\"i is no longer less than 6\")"
   ]
  },
  {
   "cell_type": "markdown",
   "id": "ab32ee15-7b5a-426b-9865-667ff1a56d47",
   "metadata": {},
   "source": [
    "### Exercise 1\n",
    "Write a Python program to guess a number between 1 to 9.\n",
    "\n",
    "Note : User is prompted to enter a guess. If the user guesses wrong then the prompt appears again until the guess is correct, on successful guess, user will get a \"Well guessed!\" message, and the program will exit.\n",
    "\n",
    "![guessnumber](../images/guessnumber.png)"
   ]
  },
  {
   "cell_type": "code",
   "execution_count": null,
   "id": "ea507f07-533b-414f-af20-1356ce342a1c",
   "metadata": {},
   "outputs": [],
   "source": [
    "import random\n",
    "target_num, guess_num = random.randint(1, 10), 0\n",
    "while target_num != guess_num:\n",
    "    guess_num = int(input('Guess a number between 1 and 10 until you get it right : '))\n",
    "print('Well guessed!')"
   ]
  },
  {
   "cell_type": "markdown",
   "id": "41769827",
   "metadata": {
    "pycharm": {
     "name": "#%% md\n"
    }
   },
   "source": [
    "### for loops\n",
    "\n",
    "`for` loops provide a way to go through each value (or set of values) in an iterable (e.g. a list, string, dictionary, etc.) and execute a block of code that uses that value.\n",
    "\n",
    "Syntax:\n",
    "\n",
    "```python\n",
    "for variable(s) in iterable:\n",
    "    # do things\n",
    "```\n",
    "\n",
    "Examples: (feel free to try executing these in your IDLE terminal, notebook cell (in Colab), VSCode, or PyCharm :)\n"
   ]
  },
  {
   "cell_type": "code",
   "execution_count": 3,
   "id": "cd6237d1",
   "metadata": {
    "collapsed": false,
    "jupyter": {
     "outputs_hidden": false
    },
    "pycharm": {
     "name": "#%%\n"
    }
   },
   "outputs": [
    {
     "name": "stdout",
     "output_type": "stream",
     "text": [
      "1\n",
      "2\n",
      "3\n"
     ]
    }
   ],
   "source": [
    "for num in [1, 2, 3]:\n",
    "    print(num)"
   ]
  },
  {
   "cell_type": "markdown",
   "id": "233ac07f",
   "metadata": {
    "pycharm": {
     "name": "#%% md\n"
    }
   },
   "source": [
    "→ with the help of the `for` loop we can for example iterate over a list.\n",
    "```python\n",
    "for item in list:\n",
    "  # do something\n",
    "```"
   ]
  },
  {
   "cell_type": "code",
   "execution_count": null,
   "id": "c9b579ae-ea7a-4176-be23-83fc875e6c6d",
   "metadata": {},
   "outputs": [],
   "source": [
    "fruits = [\"apple\", \"banana\", \"cherry\"]\n",
    "for x in fruits:\n",
    "    print(x)"
   ]
  },
  {
   "cell_type": "code",
   "execution_count": 5,
   "id": "8cbe618a",
   "metadata": {
    "collapsed": false,
    "jupyter": {
     "outputs_hidden": false
    },
    "pycharm": {
     "name": "#%%\n"
    }
   },
   "outputs": [
    {
     "name": "stdout",
     "output_type": "stream",
     "text": [
      "62\n",
      "53\n",
      "39\n",
      "62.5\n",
      "196\n",
      "83.82\n"
     ]
    }
   ],
   "source": [
    "#for loop over a list\n",
    "l = [12, 3, -11, 12.5, 146, 33.82]\n",
    "for num in l:\n",
    "    num += 50\n",
    "    print(num)"
   ]
  },
  {
   "cell_type": "code",
   "execution_count": 6,
   "id": "945b362a-9858-4a0b-aeca-327c4ca31dd5",
   "metadata": {},
   "outputs": [
    {
     "name": "stdout",
     "output_type": "stream",
     "text": [
      "[62, 53, 39, 62.5, 196, 83.82]\n"
     ]
    }
   ],
   "source": [
    "#for loop over a list and store as a list\n",
    "l = [12, 3, -11, 12.5, 146, 33.82]\n",
    "l_new=[]\n",
    "for num in l:\n",
    "    num += 50\n",
    "    l_new.append(num)\n",
    "print(l_new)"
   ]
  },
  {
   "cell_type": "code",
   "execution_count": null,
   "id": "86e746d3-5c2e-4d6e-92f0-3112fca01561",
   "metadata": {},
   "outputs": [],
   "source": [
    "#for loop over a string\n",
    "for x in \"banana\":\n",
    "    print(x)"
   ]
  },
  {
   "cell_type": "code",
   "execution_count": 5,
   "id": "d639970a",
   "metadata": {
    "collapsed": false,
    "jupyter": {
     "outputs_hidden": false
    },
    "pycharm": {
     "name": "#%%\n"
    }
   },
   "outputs": [
    {
     "name": "stdout",
     "output_type": "stream",
     "text": [
      "w!!\n",
      "o!!\n",
      "r!!\n",
      "d!!\n"
     ]
    }
   ],
   "source": [
    "#for loop over a string\n",
    "for letter in 'word':\n",
    "    new_word = letter + '!!'\n",
    "    print(new_word)"
   ]
  },
  {
   "cell_type": "code",
   "execution_count": 6,
   "id": "1f7f17ae",
   "metadata": {
    "collapsed": false,
    "jupyter": {
     "outputs_hidden": false
    },
    "pycharm": {
     "name": "#%%\n"
    }
   },
   "outputs": [
    {
     "name": "stdout",
     "output_type": "stream",
     "text": [
      "1a\n",
      "2b\n"
     ]
    }
   ],
   "source": [
    "# tuples in a list and assignment to multiple variables\n",
    "for num, letter in [(1, 'a'), (2, 'b')]:\n",
    "    # Here, we convert number to string using `str` before concatenating with another string\n",
    "    print(str(num) + letter)"
   ]
  },
  {
   "cell_type": "markdown",
   "id": "e1c4a37b-948a-479d-bfa2-dbb938f715c2",
   "metadata": {},
   "source": [
    "### Exercise 2\n",
    "Write a Python program that prints each item and its corresponding type from the following list.\n",
    "\n",
    "Sample List : datalist = [1452, 11.23, 1+2j, True, 'w3resource', (0, -1), [5, 12], {\"class\":'V', \"section\":'A'}]\n",
    "\n",
    "![itemtypes](../images/itemtypes.png)"
   ]
  },
  {
   "cell_type": "code",
   "execution_count": 7,
   "id": "a102dded-6ad5-4db8-b48f-4c13a29952e5",
   "metadata": {},
   "outputs": [
    {
     "name": "stdout",
     "output_type": "stream",
     "text": [
      "Type of  1452  is  <class 'int'>\n",
      "Type of  11.23  is  <class 'float'>\n",
      "Type of  (1+2j)  is  <class 'complex'>\n",
      "Type of  True  is  <class 'bool'>\n",
      "Type of  w3resource  is  <class 'str'>\n",
      "Type of  (0, -1)  is  <class 'tuple'>\n",
      "Type of  [5, 12]  is  <class 'list'>\n",
      "Type of  {'class': 'V', 'section': 'A'}  is  <class 'dict'>\n"
     ]
    }
   ],
   "source": [
    "datalist = [1452, 11.23, 1+2j, True, 'w3resource', (0, -1), [5, 12], {\"class\":'V', \"section\":'A'}]\n",
    "for item in datalist:\n",
    "    print(\"Type of \",item, \" is \", type(item))"
   ]
  },
  {
   "cell_type": "markdown",
   "id": "1b1016a2",
   "metadata": {
    "pycharm": {
     "name": "#%% md\n"
    }
   },
   "source": [
    "#### Range Function\n",
    "With `for` loops, it can also be useful to use the `range` operator in Python which creates an iterable of numbers. \n",
    "To loop through a set of code a specified number of times, we can use the range() function,\n",
    "The range() function returns a sequence of numbers, starting from 0 by default, and increments by 1 (by default), and ends at a specified number.\n",
    "The syntax of this is `range(start, end, step)`, but you will also see this as just `range(start, end)` or `range(end)` (in this last case, the `start` is assumed to be 0). Note that the `end` value is not included (in other words, \"numbers starting with `start` up until (not through) `end`\"). Here are some examples:"
   ]
  },
  {
   "cell_type": "code",
   "execution_count": 7,
   "id": "9fb83aa4",
   "metadata": {
    "collapsed": false,
    "jupyter": {
     "outputs_hidden": false
    },
    "pycharm": {
     "name": "#%%\n"
    }
   },
   "outputs": [
    {
     "name": "stdout",
     "output_type": "stream",
     "text": [
      "0\n",
      "1\n",
      "2\n"
     ]
    }
   ],
   "source": [
    "for i in range(3):\n",
    "    print(i)"
   ]
  },
  {
   "cell_type": "code",
   "execution_count": 8,
   "id": "5663afb4",
   "metadata": {
    "collapsed": false,
    "jupyter": {
     "outputs_hidden": false
    },
    "pycharm": {
     "name": "#%%\n"
    }
   },
   "outputs": [
    {
     "data": {
      "text/plain": [
       "[1, 2, 3]"
      ]
     },
     "execution_count": 8,
     "metadata": {},
     "output_type": "execute_result"
    }
   ],
   "source": [
    "# we can create a list out of a `range`\n",
    "list(range(1, 4))"
   ]
  },
  {
   "cell_type": "code",
   "execution_count": 9,
   "id": "f51356ec",
   "metadata": {
    "collapsed": false,
    "jupyter": {
     "outputs_hidden": false
    },
    "pycharm": {
     "name": "#%%\n"
    }
   },
   "outputs": [
    {
     "data": {
      "text/plain": [
       "[-1, 2, 5, 8]"
      ]
     },
     "execution_count": 9,
     "metadata": {},
     "output_type": "execute_result"
    }
   ],
   "source": [
    "list(range(-1, 9, 3))  # here, the step (space between values) is 3"
   ]
  },
  {
   "cell_type": "markdown",
   "id": "3a65db62-17d7-4620-8559-5ccd98050466",
   "metadata": {},
   "source": [
    "### Important Statements\n",
    "- Break: With the break statement we can stop the loop before it has looped through all the items\n",
    "*Example:*\n",
    "Exit the loop when x is \"banana\":\n",
    "```python\n",
    "fruits = [\"apple\", \"banana\", \"cherry\"]\n",
    "for x in fruits:\n",
    "    print(x)\n",
    "    if x == \"banana\":\n",
    "    break\n",
    "```\n",
    "- Continue: With the continue statement we can stop the current iteration of the loop, and continue with the next\n",
    "*Example:*\n",
    "Do not print banana:\n",
    "```python\n",
    "fruits = [\"apple\", \"banana\", \"cherry\"]\n",
    "for x in fruits:\n",
    "    if x == \"banana\":\n",
    "        continue\n",
    "    print(x)\n",
    "```\n",
    "- Pass: for loops cannot be empty, but if you for some reason have a for loop with no content, put in the pass statement to avoid getting an error.\n",
    "*Example:*\n",
    "```python\n",
    "for x in [0, 1, 2]:\n",
    "    pass\n",
    "```"
   ]
  },
  {
   "cell_type": "code",
   "execution_count": null,
   "id": "46a3c536-f31d-4e3d-9594-ded5704d29bd",
   "metadata": {},
   "outputs": [],
   "source": []
  },
  {
   "cell_type": "markdown",
   "id": "4d29697c-69bd-4683-b713-e65fd8ff5de3",
   "metadata": {},
   "source": [
    "### Exercise 3\n",
    "Write a Python program that prints all the numbers from 0 to 6 except 3 and 6.\n",
    "\n",
    "Note : Use 'continue' statement.\n",
    "\n",
    "![exercise3](../images/exercise3.png)"
   ]
  },
  {
   "cell_type": "code",
   "execution_count": 2,
   "id": "f8140ac4-eb92-4223-9665-999c35afba05",
   "metadata": {},
   "outputs": [
    {
     "name": "stdout",
     "output_type": "stream",
     "text": [
      "0 1 2 4 5 \n",
      "\n"
     ]
    }
   ],
   "source": [
    "for x in range(6):\n",
    "    if (x == 3 or x==6):\n",
    "        continue\n",
    "    print(x,end=' ')\n",
    "print(\"\\n\")"
   ]
  },
  {
   "cell_type": "markdown",
   "id": "00e4e0c1",
   "metadata": {
    "pycharm": {
     "name": "#%% md\n"
    }
   },
   "source": [
    "### Exercise 4\n",
    "Write a Python program that counts character \"a\" in a given string"
   ]
  },
  {
   "cell_type": "code",
   "execution_count": 10,
   "id": "a55d3ad2",
   "metadata": {
    "collapsed": false,
    "jupyter": {
     "outputs_hidden": false
    },
    "pycharm": {
     "name": "#%%\n"
    }
   },
   "outputs": [
    {
     "name": "stdout",
     "output_type": "stream",
     "text": [
      "Found 4 letters 'a' in the given string\n"
     ]
    }
   ],
   "source": [
    "s = 'this is a random string with several letters \\'a\\''\n",
    "counter = 0\n",
    "for character in s:\n",
    "    if character == 'a':\n",
    "        counter += 1\n",
    "print('Found', counter, 'letters \\'a\\' in the given string')"
   ]
  },
  {
   "cell_type": "markdown",
   "id": "f0351ca9-8232-4969-92e7-ed43dddb555a",
   "metadata": {},
   "source": [
    "### Exercise 5\n",
    "Write a Python program to count the number of even and odd numbers from a series of numbers.\n",
    "\n",
    "![exercise5-1](../images/exercise5-1.png)\n",
    "![exercise5-2](../images/exercise5-2.png)\n",
    "\n",
    "![exercise5-flowchart](../images/exercise5-flowchart.png)"
   ]
  },
  {
   "cell_type": "code",
   "execution_count": null,
   "id": "077bcc12-efca-40fd-b8b3-b0d2b2992142",
   "metadata": {},
   "outputs": [],
   "source": [
    "numbers = (1, 2, 3, 4, 5, 6, 7, 8, 9) # Declaring the tuple\n",
    "count_odd = 0\n",
    "count_even = 0\n",
    "for x in numbers:\n",
    "        if not x % 2:\n",
    "    \t     count_even+=1\n",
    "        else:\n",
    "    \t     count_odd+=1\n",
    "print(\"Number of even numbers :\",count_even)\n",
    "print(\"Number of odd numbers :\",count_odd)"
   ]
  },
  {
   "cell_type": "markdown",
   "id": "23b77952",
   "metadata": {
    "pycharm": {
     "name": "#%% md\n"
    }
   },
   "source": [
    "## Additional Resources\n",
    "\n",
    "- [W3 schools Python while loops](https://www.w3schools.com/python/python_while_loops.asp)\n",
    "- [W3 schools Python for loops](https://www.w3schools.com/python/python_for_loops.asp)\n",
    "- [Tutorialspoint loops in Python](https://www.tutorialspoint.com/python3/python_loops.htm)\n",
    "- [additional practice problems on loops and conditions (note: some are challenging!)](https://www.w3resource.com/python-exercises/python-conditional-statements-and-loop-exercises.php)\n",
    "- [additional practice problems (note: challenging!)](https://www.practicepython.org/)\n"
   ]
  }
 ],
 "metadata": {
  "kernelspec": {
   "display_name": "Python 3 (ipykernel)",
   "language": "python",
   "name": "python3"
  },
  "language_info": {
   "codemirror_mode": {
    "name": "ipython",
    "version": 3
   },
   "file_extension": ".py",
   "mimetype": "text/x-python",
   "name": "python",
   "nbconvert_exporter": "python",
   "pygments_lexer": "ipython3",
   "version": "3.9.7"
  },
  "vscode": {
   "interpreter": {
    "hash": "2d63cf38a8ddc3101a2c0f32b71647b4096a78b8efd4c1bbcf73ffeaf57c27fa"
   }
  }
 },
 "nbformat": 4,
 "nbformat_minor": 5
}
