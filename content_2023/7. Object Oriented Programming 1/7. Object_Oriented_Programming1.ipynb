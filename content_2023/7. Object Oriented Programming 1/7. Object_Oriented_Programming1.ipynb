{
 "cells": [
  {
   "cell_type": "markdown",
   "id": "7c7b2f7f-b6ba-443f-ba4b-45f938fbaaaf",
   "metadata": {
    "id": "7c7b2f7f-b6ba-443f-ba4b-45f938fbaaaf"
   },
   "source": [
    "## Object_Oriented_Programming1\n",
    "![python gif](https://cdn-images-1.medium.com/max/1300/1*TIyf0_kfMRRiJQFAUgp0QQ.png)\n",
    "## Prerequisites\n",
    "\n",
    "- You have completely set up one of the three Python development options\n",
    "  - [VsCode](../installing_python/#setup-instructions-1)\n",
    "  - [PyCharm](../installing_python/#setup-instructions-2)\n",
    "  - [Google Colab Notebook](../installing_python/#setup-instructions)\n",
    "- You have solved the [tasks](../installing_python/#5-hands-on-python-tasks) from the last class    \n",
    "\n",
    "---\n",
    "\n",
    "## Class Curriculum\n",
    "\n",
    "| Section content                                        | Expected time (mins) | Pre - Requirements                         |\n",
    "| ------------------------------------------------------ | -------------------- | ------------------------------------------ |\n",
    "| Lesson Goals                                           | 5 minutes            | ❌                                         |\n",
    "| Check-in on pre-reqs and questions from last class     | 15 minutes           | ❌                                         |\n",
    "| Procedural programming                                 | 10 minutes           | ❌                                         |\n",
    "| Object-oriented Programming                            | 10 minutes           | ❌                                         |\n",
    "| Pillars of object-oriented programming                 | 10 minutes           | ❌                                         |\n",
    "| Break                                                  | 10 minutes           | ❌                                         |\n",
    "| Task: Extend the pet clinic example                    | 20 minutes           | ❌\n",
    "| Bonus Task: Implement a REDI Course Management System  | 20 minutes           | ❌\n",
    "| Check-out                                              | 10 minutes           | ❌\n"
   ]
  },
  {
   "cell_type": "markdown",
   "source": [
    "## 0. Lesson Goals\n",
    "\n",
    "- Learn the difference between procedural vs. object-oriented programming.\n",
    "- Learn the pillars of object-oriented programming in Python\n",
    "  - Classes\n",
    "  - Objects\n",
    "  - Constructor functions\n",
    "  - Object Methods\n",
    "  - Inheritance"
   ],
   "metadata": {
    "id": "IfWbXdPZtWd5"
   },
   "id": "IfWbXdPZtWd5"
  },
  {
   "cell_type": "markdown",
   "source": [
    "## 1. Check-In\n",
    "\n",
    "- What was particularly challenging last class? Are there any remaining questions from last class?\n",
    "- What exercises were the most challenging? (Respond in the chat)"
   ],
   "metadata": {
    "id": "9yQYE3cMtZOF"
   },
   "id": "9yQYE3cMtZOF"
  },
  {
   "cell_type": "markdown",
   "source": [
    "## 2. Procedural Programming\n",
    "\n",
    "Procedural programming involves writing sequential code which is executed from top to the bottom of the file.\n",
    "You are not allowed to switch steps otherwise the program will fail to run.\n",
    "You can think of procedural programming like the process of boiling some spaghetti.\n",
    "\n",
    "![Spaghetti](https://utopia.de/app/uploads/2020/01/spaghetti-kochen-cc0-pixabay-aneps080203-200109.jpg)\n",
    "- You get a clean pot\n",
    "- You pour some water into the pot\n",
    "- You switch on the cooker\n",
    "- You wait for the water to start boiling\n",
    "- You add the Spaghetti\n",
    "- You add some salt\n",
    "- You wait for about 10 to 15 minutes for the Spaghetti to cook\n",
    "\n",
    "Here are some characteristics of procedural programming:\n",
    "- In procedural programming, program is divided into small parts called functions.\n",
    "- Procedural programming follows top down approach.\n",
    "- Adding new data and functions is not easy.\n",
    "- Procedural programming does not have any proper way for hiding data so it is less secure.\n",
    "- In procedural programming, function is more important than data.\n",
    "- Procedural programs are not modelled according to real-world structure.\n",
    "- Procedural programming languages include C, FORTRAN, Pascal, Basic etc"
   ],
   "metadata": {
    "id": "WZG3mwhYtlsW"
   },
   "id": "WZG3mwhYtlsW"
  },
  {
   "cell_type": "markdown",
   "source": [
    "## 3. Object-Oriented Programming\n",
    "\n",
    "Object-oriented programming involves writing code in terms of the objects that make up the problem you\n",
    "are trying to solve.\n",
    "The definitions of these objects in the code can be switched around without causing the program to fail.\n",
    "You can think of object-oriented programming like the process of solving a jigsaw puzzle.\n",
    "\n",
    "![Jigsaw](https://images-eu.ssl-images-amazon.com/images/I/81qbNGQvGQL.png)\n",
    "\n",
    "Here are some characteristics of object-oriented programming:\n",
    "- In object-oriented programming, the program is divided into small parts called objects.\n",
    "- Object-oriented programming follows bottom up approach.\n",
    "- Adding new data and function is easy.\n",
    "- Object-oriented programming provides data hiding so it is more secure.\n",
    "- In object-oriented programming, data is more important than function.\n",
    "- Object-oriented programs are modelled according to real-world structure.\n",
    "- Object-oriented programming languages include C++, Java, Python, C# etc."
   ],
   "metadata": {
    "id": "qhuyiSqSttus"
   },
   "id": "qhuyiSqSttus"
  },
  {
   "cell_type": "markdown",
   "source": [
    "## 4. Pillars of Object-Oriented Programming in Python\n",
    "\n",
    "### Working with Jupyter Notebooks\n",
    "\n",
    "You can execute the code Blocks by pressing on the Arrow button on the left, that appears when you hover your mouse pointer over the Brackets.\n",
    "This action results in either an output below the Code block or it defines variables for the context of the Notebook.\n",
    "If a code block references variables that are defined in other blocks, you need to execute the referenced Blocks first! Failing to do so results in an ERROR.\n",
    "\n",
    "### Classes\n",
    "\n",
    "Classes represent a group of objects you would like to manage in your program. Classes in python are declared\n",
    "as follows:  \n",
    "  ```python\n",
    "  class class_name:\n",
    "    class_body\n",
    "  ```"
   ],
   "metadata": {
    "id": "KqbouK7uty_7"
   },
   "id": "KqbouK7uty_7"
  },
  {
   "cell_type": "markdown",
   "source": [
    "For example if you are writing code to manage the pets at a pet clinic then your program is managing different pets, whether they are\n",
    "dogs, cats, turtles etc. In your program you would represent all these different breeds using a `Pet` class.\n"
   ],
   "metadata": {
    "id": "TZMAvoVIuYJR"
   },
   "id": "TZMAvoVIuYJR"
  },
  {
   "cell_type": "code",
   "source": [
    "class Pet:\n",
    "    pass"
   ],
   "metadata": {
    "id": "ZLlKIrwZubx_"
   },
   "id": "ZLlKIrwZubx_",
   "execution_count": 1,
   "outputs": []
  },
  {
   "cell_type": "markdown",
   "source": [
    "*Note: The `pass` keyword is used when we do not want to specify any details of the class.*\n",
    "\n",
    "### Objects\n",
    "\n",
    "When we define a class only the description or a blueprint of all possible objects defined by that class is created. For example\n",
    "one particular cat at the pet clinic is an object of the Pet class. When you create an object from a class in your code, you assign it\n",
    "to a variable to allow you do something meaningful with that specific object. You create an object and assign it to a variable as follows:\n"
   ],
   "metadata": {
    "id": "hMPEfRIQu5w3"
   },
   "id": "hMPEfRIQu5w3"
  },
  {
   "cell_type": "markdown",
   "source": [
    "object_variable = class_name()"
   ],
   "metadata": {
    "id": "LSmE6MpevYBP"
   },
   "id": "LSmE6MpevYBP"
  },
  {
   "cell_type": "markdown",
   "source": [
    "For example, an object for a cat called `Maya` can be created from the `Pet` class as follows:"
   ],
   "metadata": {
    "id": "FtK_qdgJvekF"
   },
   "id": "FtK_qdgJvekF"
  },
  {
   "cell_type": "code",
   "source": [
    "maya = Pet()"
   ],
   "metadata": {
    "id": "sHL0C1vJvjNq"
   },
   "id": "sHL0C1vJvjNq",
   "execution_count": 2,
   "outputs": []
  },
  {
   "cell_type": "markdown",
   "source": [
    "Now you can print the `Maya` object"
   ],
   "metadata": {
    "id": "6YE1ErHxwC_h"
   },
   "id": "6YE1ErHxwC_h"
  },
  {
   "cell_type": "code",
   "source": [
    "print(maya)\n",
    "  # outputs something like -> <__main__.Pet object at 0x7ff41e9bcdd0>"
   ],
   "metadata": {
    "id": "ZeA_23DBwEx1",
    "outputId": "0616b382-fe06-480e-8191-c8e325409569",
    "colab": {
     "base_uri": "https://localhost:8080/"
    }
   },
   "id": "ZeA_23DBwEx1",
   "execution_count": 14,
   "outputs": [
    {
     "output_type": "stream",
     "name": "stdout",
     "text": [
      "<__main__.Pet object at 0x7fe832cb1050>\n"
     ]
    }
   ]
  },
  {
   "cell_type": "markdown",
   "source": [
    "Note: The `0x7ff41e9bcdd0` above is the address of `Maya` in memory on my computer. The value will be different on your computer\n",
    "\n",
    "### Constructor functions\n",
    "The examples above are classes and objects in their simplest form, and are not really useful in real life applications.\n",
    "\n",
    "To understand the meaning of classes we have to understand the built-in `__init__()` constructor function.\n",
    "\n",
    "All classes have a function called `__init__()`, which is always executed when an object of the class is being constructed.\n",
    "\n",
    "Use the `__init__()` function to assign values to object properties, or other operations that are necessary to do when the object is being created:\n",
    "\n",
    "For example, in the example from above\n",
    "\n",
    "  ```python\n",
    "  maya = Pet()\n",
    "  ```\n",
    "\n",
    "We know that object relates to a cat called `Maya` because we stored the object in a variable called `maya`.\n",
    "\n",
    "Now consider if we instead named the variable differently:\n",
    " ```python\n",
    "  pet_one = Pet()\n",
    "  ```\n",
    "\n",
    "We've lost all hints that the `pet_one` object actually refers to `Maya`. We can add a constructor function to the `Pet`\n",
    "class which will allow us to give names to pets objects we create.\n"
   ],
   "metadata": {
    "id": "JVEtKh0SwH3P"
   },
   "id": "JVEtKh0SwH3P"
  },
  {
   "cell_type": "code",
   "source": [
    "class Pet:\n",
    "    def __init__(self, name):\n",
    "      self.name = name"
   ],
   "metadata": {
    "id": "4J11AIjqwsWK",
    "pycharm": {
     "is_executing": true
    }
   },
   "id": "4J11AIjqwsWK",
   "execution_count": null,
   "outputs": []
  },
  {
   "cell_type": "markdown",
   "source": [
    "*Note: The self parameter is a reference to the current class object and is used to access variables that belong to the object.*\n",
    "\n",
    "With the new constructor function added to the `Pet` class, we can now create pet objects with actual names\n"
   ],
   "metadata": {
    "id": "TuLzto5nx9re"
   },
   "id": "TuLzto5nx9re"
  },
  {
   "cell_type": "code",
   "source": [
    "pet_one = Pet(\"Maya\")\n",
    "pet_two = Pet(\"Felix\")"
   ],
   "metadata": {
    "id": "NEBoFZH8yMhS"
   },
   "id": "NEBoFZH8yMhS",
   "execution_count": 6,
   "outputs": []
  },
  {
   "cell_type": "markdown",
   "source": [
    "And we can selectively print the names of each pet"
   ],
   "metadata": {
    "id": "J11ktfMpyXBs"
   },
   "id": "J11ktfMpyXBs"
  },
  {
   "cell_type": "code",
   "source": [
    "print(pet_one.name)\n",
    "print(pet_two.name)"
   ],
   "metadata": {
    "id": "YdKkHztJyZMc",
    "outputId": "1c0843c5-4467-4681-cbd1-ca0a02bb5c30",
    "colab": {
     "base_uri": "https://localhost:8080/"
    }
   },
   "id": "YdKkHztJyZMc",
   "execution_count": 11,
   "outputs": [
    {
     "output_type": "stream",
     "name": "stdout",
     "text": [
      "maya\n",
      "Felix\n"
     ]
    }
   ]
  },
  {
   "cell_type": "markdown",
   "source": [
    "### Object Methods\n",
    "\n",
    "Objects can also contain functions called `Methods`. Methods allow the program to perform actions on objects.\n",
    "\n",
    "Let us add a `hello` method to the `Pet` class that the pets can use to introduce themselves (if they could speak)\n"
   ],
   "metadata": {
    "id": "GltNGnVnylgw"
   },
   "id": "GltNGnVnylgw"
  },
  {
   "cell_type": "code",
   "source": [
    "class Pet:\n",
    "    def __init__(self, name):\n",
    "        self.name = name\n",
    "\n",
    "    def hello(self):\n",
    "        print(\"Hello my name is \" + self.name)"
   ],
   "metadata": {
    "id": "BMZaLZayyoRC"
   },
   "id": "BMZaLZayyoRC",
   "execution_count": 9,
   "outputs": []
  },
  {
   "cell_type": "markdown",
   "source": [
    "Now we can create a pet called called `Maya` and have her say hello!"
   ],
   "metadata": {
    "id": "cb3rzYnWytl2"
   },
   "id": "cb3rzYnWytl2"
  },
  {
   "cell_type": "code",
   "source": [
    "pet_one = Pet(\"maya\")\n",
    "pet_one.hello()"
   ],
   "metadata": {
    "id": "WHxqzybpywzH",
    "outputId": "1f451a6e-0918-47fe-cd03-d0b1814b931d",
    "colab": {
     "base_uri": "https://localhost:8080/",
     "height": 190
    }
   },
   "id": "WHxqzybpywzH",
   "execution_count": 13,
   "outputs": [
    {
     "output_type": "error",
     "ename": "AttributeError",
     "evalue": "ignored",
     "traceback": [
      "\u001B[0;31m---------------------------------------------------------------------------\u001B[0m",
      "\u001B[0;31mAttributeError\u001B[0m                            Traceback (most recent call last)",
      "\u001B[0;32m<ipython-input-13-e487e273271c>\u001B[0m in \u001B[0;36m<module>\u001B[0;34m\u001B[0m\n\u001B[1;32m      1\u001B[0m \u001B[0mpet_one\u001B[0m \u001B[0;34m=\u001B[0m \u001B[0mPet\u001B[0m\u001B[0;34m(\u001B[0m\u001B[0;34m\"maya\"\u001B[0m\u001B[0;34m)\u001B[0m\u001B[0;34m\u001B[0m\u001B[0;34m\u001B[0m\u001B[0m\n\u001B[0;32m----> 2\u001B[0;31m \u001B[0mpet_one\u001B[0m\u001B[0;34m.\u001B[0m\u001B[0mhello\u001B[0m\u001B[0;34m(\u001B[0m\u001B[0;34m)\u001B[0m\u001B[0;34m\u001B[0m\u001B[0;34m\u001B[0m\u001B[0m\n\u001B[0m",
      "\u001B[0;31mAttributeError\u001B[0m: 'Pet' object has no attribute 'hello'"
     ]
    }
   ]
  },
  {
   "cell_type": "markdown",
   "source": [
    "### Class inheritance\n",
    "\n",
    "*  Understanding the concept of class can be a bit difficult at first. This section is not essential if you are still struggling with the previous concepts. ;)*\n",
    "\n",
    "Inheritance allows us to define a class that is a sub-category of another class. For example at the pet clinic, we have\n",
    "a `Pet` class. But using the `Pet` class, we cannot differentiate between cats, dogs, turtles or birds.\n",
    "\n",
    "We can create new classes for the different kinds of animals at the pet clinic and have all of them inherit from the `Pet`\n",
    "class."
   ],
   "metadata": {
    "id": "Oivl-vvn16eZ"
   },
   "id": "Oivl-vvn16eZ"
  },
  {
   "cell_type": "code",
   "source": [
    "class Pet:\n",
    "    def __init__(self, name):\n",
    "        self.name = name\n",
    "\n",
    "    def hello(self):\n",
    "        print(\"Hello my name is \" + self.name)\n",
    "\n",
    "class Cat(Pet):\n",
    "    pass\n",
    "\n",
    "class Dog(Pet):\n",
    "    pass\n",
    "\n",
    "class Turtle(Pet):\n",
    "    pass\n",
    "\n",
    "class Bird(Pet):\n",
    "    pass"
   ],
   "metadata": {
    "id": "GUbywUll2WIv"
   },
   "id": "GUbywUll2WIv",
   "execution_count": 17,
   "outputs": []
  },
  {
   "cell_type": "markdown",
   "source": [
    "The `Pet` class is known as the parent class.\n",
    "\n",
    "The `Cat`, `Dog`, `Turtle` and `Bird` classes are known as child class.\n",
    "\n",
    "Now we can create more pet objects using their specific classes and they will all be able to say `hello` because they've inherited\n",
    "the hello method from the `Pet` class\n"
   ],
   "metadata": {
    "id": "vpVP7vZk2dAw"
   },
   "id": "vpVP7vZk2dAw"
  },
  {
   "cell_type": "code",
   "source": [
    "cat_one = Cat(\"maya\")\n",
    "dog_one = Dog(\"bosco\")\n",
    "turtle_one = Turtle(\"speedy\")\n",
    "bird_one = Bird(\"diver\")\n",
    "\n",
    "cat_one.hello()\n",
    "dog_one.hello()\n",
    "turtle_one.hello()\n",
    "bird_one.hello()"
   ],
   "metadata": {
    "id": "ff0K44ho2jtf",
    "outputId": "0d65ca60-ca08-4d2d-f52b-de6da81c79f7",
    "colab": {
     "base_uri": "https://localhost:8080/"
    }
   },
   "id": "ff0K44ho2jtf",
   "execution_count": 18,
   "outputs": [
    {
     "output_type": "stream",
     "name": "stdout",
     "text": [
      "Hello my name is maya\n",
      "Hello my name is bosco\n",
      "Hello my name is speedy\n",
      "Hello my name is diver\n"
     ]
    }
   ]
  },
  {
   "cell_type": "markdown",
   "source": [
    "Even though we now have various child classes of the parent class `Pet`, each of those child classes have characteristics\n",
    "that apply to only them. For example cats can meow, dogs can bark, birds can fly and turtles can hide in their shell.\n",
    "\n",
    "We can add more specific class methods into the various child classes to provide more specific behaviors.\n",
    "\n",
    "Lets add:\n",
    "- A `meow` method to the `Cat` class which causes the cat to make the meow sound\n",
    "- A `bark` method to the `Dog` class which causes the dog to bark\n",
    "- A `fly` method to the `Bird` class which causes the bird to fly\n",
    "- A `hide` method to the `Turtle` class which causes the turtle to go into its shell"
   ],
   "metadata": {
    "id": "PxpFeWfF2tK8"
   },
   "id": "PxpFeWfF2tK8"
  },
  {
   "cell_type": "code",
   "source": [
    "class Pet:\n",
    "  def __init__(self, name):\n",
    "    self.name = name\n",
    "\n",
    "  def hello(self):\n",
    "    print(\"Hello my name is \" + self.name)\n",
    "\n",
    "class Cat(Pet):\n",
    "  def meow(self):\n",
    "    print(\"Meeeeeooooww! I am a cat!\")\n",
    "\n",
    "class Dog(Pet):\n",
    "  # please write the code to complete the Dog class with a 'bark' method to print \"Wooof! Woof! I am a dog!\"\n",
    "  pass\n",
    "\n",
    "class Turtle(Pet):\n",
    "  def hide(self):\n",
    "    print(\"Hide! I'm shy! I am a turtle!\")\n",
    "\n",
    "class Bird(Pet):\n",
    "  def fly(self):\n",
    "    print(\"Swoooosh! I'm flying away! I am a bird!\")"
   ],
   "metadata": {
    "id": "-eRstDla3DU8"
   },
   "id": "-eRstDla3DU8",
   "execution_count": 19,
   "outputs": []
  },
  {
   "cell_type": "markdown",
   "source": [
    "Now lets get all our pets to first say hello and then perform the actions they are good at."
   ],
   "metadata": {
    "id": "rVUVL3xe4JbM"
   },
   "id": "rVUVL3xe4JbM"
  },
  {
   "cell_type": "code",
   "source": [
    "cat_one = Cat(\"maya\")\n",
    "dog_one = Dog(\"bosco\")\n",
    "turtle_one = Turtle(\"speedy\")\n",
    "bird_one = Bird(\"diver\")\n",
    "\n",
    "cat_one.hello()\n",
    "cat_one.meow()\n",
    "\n",
    "dog_one.hello()\n",
    "#dog_one.bark()\n",
    "\n",
    "turtle_one.hello()\n",
    "turtle_one.hide()\n",
    "\n",
    "bird_one.hello()\n",
    "bird_one.fly()"
   ],
   "metadata": {
    "id": "xjWE0aNx4NXy",
    "outputId": "ebc734a4-07f1-49cb-f552-cbca6cde9834",
    "colab": {
     "base_uri": "https://localhost:8080/"
    }
   },
   "id": "xjWE0aNx4NXy",
   "execution_count": 21,
   "outputs": [
    {
     "output_type": "stream",
     "name": "stdout",
     "text": [
      "Hello my name is maya\n",
      "Meeeeeooooww! I am a cat!\n",
      "Hello my name is bosco\n",
      "Hello my name is speedy\n",
      "Hide! I'm shy! I am a turtle!\n",
      "Hello my name is diver\n",
      "Swoooosh! I'm flying away! I am a bird!\n"
     ]
    }
   ]
  },
  {
   "cell_type": "markdown",
   "source": [
    "## Small challenge : \"It's almost Easter...\"\n",
    "\n",
    "In this exercise, we will try to create a small game using Object Oriented Programming. It is still possible not to use classes, but you will see that it complicates the code considerably... The ultimate goal of this challenge is to show you the power of classes !\n",
    "\n",
    "#### The game : context & rules\n",
    "\n",
    "Every year, in a small rural village, the municipality organizes a treasure hunt. Many sweets are hidden in the town and the participants have to find them within a given time. The one who finds the most sweets wins the game. Let's code this.\n",
    "\n",
    "The slides available [here](https://drive.google.com/file/d/1pVF-N2Gf4RXdCmssmfpz1JxKq7-CyJ9o/view?usp=sharing) give you a better understanding of how the game will be run.\n",
    "\n",
    "Here is the code that simulate the game, the **goal** is to reimplement this code by using classes.\n"
   ],
   "metadata": {
    "id": "2erGmEq_4jT_"
   },
   "id": "2erGmEq_4jT_"
  },
  {
   "cell_type": "code",
   "source": [
    "from random import randrange\n",
    "\n",
    "\n",
    "def update_challenger_points(challenger, world):\n",
    "    \"\"\"\n",
    "\n",
    "        Desc : tells whether the challenger wins a point. If yes it modifies the number of points.\n",
    "        Params : world, challenger\n",
    "        Return : None\n",
    "\n",
    "    \"\"\"\n",
    "    if world[challenger['position']] == 1:\n",
    "        challenger['collected_treasures'] += 1\n",
    "\n",
    "\n",
    "def set_challenger_mood(challenger, new_mood):\n",
    "    \"\"\"\n",
    "\n",
    "        Desc : sets the mood of the challenger\n",
    "        Params : challenger, new_mood\n",
    "        Return : None\n",
    "\n",
    "    \"\"\"\n",
    "    challenger['mood'] = new_mood\n",
    "\n",
    "\n",
    "def set_challenger_position(challenger, new_pos):\n",
    "    \"\"\"\n",
    "\n",
    "        Desc : sets the mood of the challenger\n",
    "        Params : challenger, new_mood\n",
    "        Return : None\n",
    "\n",
    "    \"\"\"\n",
    "    challenger['position'] = new_pos\n",
    "\n",
    "\n",
    "\n",
    "def update_challenger_position(challenger, world):\n",
    "    \"\"\"\n",
    "\n",
    "        Desc : gives the new box number where the challenger has to go + sets the new position of the challenger\n",
    "        Params : challenger, world\n",
    "        Return : the new given position\n",
    "\n",
    "    \"\"\"\n",
    "    square_number = randrange(len(world)) # HINT : randrange is a method from the 'random' library. It gives an integer between 0 and len(world).\n",
    "    set_challenger_position(challenger, square_number)\n",
    "    return square_number\n",
    "\n",
    "\n",
    "def print_challenger(challenger):\n",
    "    \"\"\"\n",
    "\n",
    "        Desc : return the relevant information of the challenger when programmers use 'print'\n",
    "        Params : challenger\n",
    "        Return : the name of the challenger\n",
    "\n",
    "    \"\"\"\n",
    "    print(challenger['name'])\n",
    "\n",
    "\n",
    "def interview_challengers_podium(sport_commentator, challengers):\n",
    "    \"\"\"\n",
    "\n",
    "        Desc : interviews the first three challengers and asks them their mood after the competition. The answer of this question is printed.\n",
    "        Params : challengers\n",
    "        Return : the list of moods in the same order than the ranking\n",
    "\n",
    "    \"\"\"\n",
    "    # TO BE COMPLETED\n",
    "    pass\n",
    "\n",
    "\n",
    "def announce_challengers(sport_commentator, challengers):\n",
    "    \"\"\"\n",
    "\n",
    "        Desc : announces(print) the challenger\n",
    "        Params : challengers\n",
    "        Return : True\n",
    "\n",
    "    \"\"\"\n",
    "    print(\"[{}]:'The name of the challenger number one is {}'\".format(sport_commentator['name'], challengers[0]['name']))\n",
    "    print(\"[{}]:'The name of the challenger number one is {}'\".format(sport_commentator['name'], challengers[1]['name']))\n",
    "    print(\"[{}]:'The name of the challenger number one is {}'\".format(sport_commentator['name'], challengers[2]['name']))\n",
    "    print(\"[{}]:'The name of the challenger number one is {}'\".format(sport_commentator['name'], challengers[3]['name']))\n",
    "    # TO BE REFACTORED (use a for...loop that depends dynamicaly on the number of challengers)\n",
    "    return 1\n",
    "\n",
    "\n",
    "def annouce_winner(sport_commentator, winner):\n",
    "    \"\"\"\n",
    "\n",
    "        Desc : announces the winner\n",
    "        Params : challengers\n",
    "        Return : True\n",
    "\n",
    "    \"\"\"\n",
    "    print(\"[{}]:'And the winner is {}'\".format(sport_commentator['name'], winner['name']))\n",
    "    return True\n",
    "\n",
    "\n",
    "def find_winner(challengers):\n",
    "    \"\"\"\n",
    "\n",
    "        Desc : finds the challenger who has collected the most treasure and prints and returns the winner\n",
    "        Params : challengers\n",
    "        Return : the winner (as an object)\n",
    "\n",
    "    \"\"\"\n",
    "    # TODO : case when there is a draw\n",
    "    hyp_winner = challengers[0]\n",
    "    for challenger in challengers:\n",
    "        if challenger['collected_treasures'] > hyp_winner['collected_treasures']:\n",
    "            hyp_winner = challenger\n",
    "    return hyp_winner\n",
    "\n",
    "\n",
    "\n",
    "\n",
    "\n",
    "if __name__ == '__main__':\n",
    "\n",
    "    # Part one : data definition\n",
    "    moods = [\"happy\", \"anxious\", \"impatient\", \"desappointed\", \"amazed\"]\n",
    "\n",
    "    # Note to the programmer : if you want to add challengers to the game you must follow the following rules :\n",
    "    # a challenger is a challenger IF AND ONLY IF he/she has a name, an age, a mood, a position and a collected_treasures\n",
    "\n",
    "    challenger_1 = {'name': \"Antoine\", 'age': 23, 'mood': moods[0], 'position': 0, 'collected_treasures': 0}\n",
    "    challenger_2 = {'name': \"Thomas\", 'age': 18, 'mood': moods[1], 'position': 0, 'collected_treasures': 0}\n",
    "    challenger_3 = {'name': \"Julia\", 'age': 28, 'mood': moods[0], 'position': 0, 'collected_treasures': 0}\n",
    "    challenger_4 = {'name': \"Richard\", 'age': 40, 'mood': moods[2], 'position': 0, 'collected_treasures': 0}\n",
    "\n",
    "    challengers = [challenger_1, challenger_2, challenger_3, challenger_4]\n",
    "\n",
    "    sport_commentator = {'name': \"Kathrine\", 'age':68 }\n",
    "\n",
    "    world_2D = [0, 1, 0, 0, 1, 0, 1, 0, 1, 0, 0, 1, 1, 0, 1, 0, 1, 1, 0, 1]\n",
    "\n",
    "    n_turns = 8\n",
    "\n",
    "    # Part two : game execution\n",
    "    announce_challengers(sport_commentator, challengers)\n",
    "\n",
    "    print(\"The game is starting...\")\n",
    "\n",
    "    for turn_index in range(n_turns):\n",
    "        for challenger in challengers:\n",
    "            update_challenger_position(challenger, world_2D)\n",
    "            update_challenger_points(challenger, world_2D)\n",
    "\n",
    "    winner = find_winner(challengers)\n",
    "    annouce_winner(sport_commentator, winner)\n",
    "\n",
    "\n",
    "    for challenger in challengers:\n",
    "        if challenger == winner:\n",
    "            set_challenger_mood(challenger, moods[4])\n",
    "        else:\n",
    "            set_challenger_mood(challenger, moods[3])\n",
    "\n",
    "    interview_challengers_podium(sport_commentator, challengers)\n"
   ],
   "metadata": {
    "id": "f3ftvA9M5AjR",
    "outputId": "293884b2-aed0-4a8d-ad3a-4d0528e237e6",
    "colab": {
     "base_uri": "https://localhost:8080/"
    }
   },
   "id": "f3ftvA9M5AjR",
   "execution_count": 22,
   "outputs": [
    {
     "output_type": "stream",
     "name": "stdout",
     "text": [
      "[Kathrine]:'The name of the challenger number one is Antoine'\n",
      "[Kathrine]:'The name of the challenger number one is Thomas'\n",
      "[Kathrine]:'The name of the challenger number one is Julia'\n",
      "[Kathrine]:'The name of the challenger number one is Richard'\n",
      "The game is starting...\n",
      "[Kathrine]:'And the winner is Richard'\n"
     ]
    }
   ]
  },
  {
   "cell_type": "markdown",
   "source": [
    "## Guide lines and TODO:\n",
    "\n",
    "**<ins>First step</ins> : work only with the story**\n",
    "- With the help of the [slides](https://drive.google.com/file/d/1pVF-N2Gf4RXdCmssmfpz1JxKq7-CyJ9o/view?usp=sharing), write down any kind of entities you can find in the story.\n",
    "- Try to draw links between entities. Can you say that some entities belongs to others ?\n",
    "- Among these entities, which one could be created by a class ? Which entities are in reality just data/attributes of a class ?\n",
    "\n",
    "These questions are broad (and a bit complicated) and there is not just one solution !\n",
    "\n",
    "*SOLUTION : You can check [this document](https://drive.google.com/file/d/1qtXloa1_dLAyORvBBB6D93huZL3b7nJm/view?usp=sharing) to see which classes could be interesting to create (slide 1). Don't hesitate to let comments on the doc if you have questions.*\n",
    "\n",
    "**<ins>Second step</ins> : explore the existing code**\n",
    "The code above is achieving what we want to do in this exercise, but with the wrong paradigm, the **procedural** paradigm. We want to tranform it into an Oriented Object code\n",
    "- Have a look at the code above and try to think which piece of code you would be able to reuse. Do you find the data you've already spotted during the first step ? Which functions could be used as class methods ?\n",
    "\n",
    "- Write the name of the chosen functions in the notes you've made during the first part and bind them to a specific class.\n",
    "\n",
    "*If you **need** help you can check [this document](https://drive.google.com/file/d/1qtXloa1_dLAyORvBBB6D93huZL3b7nJm/view?usp=sharing). From slide 3 to 6, you will find the attributes that you have to put in the class. From slide 7 to 21, you will find the methods that you have to implement in your classes.*\n",
    "\n",
    "*If you have finish these two steps, it's time now to write python code. **Make sure that you know well the syntax of python classes**, don't hesitate to read again the **part 4** of the lecture and do the pet example by yourself.*\n",
    "\n",
    "\n",
    "**<ins>Third step</ins> : Refactoring : write your own classes (This is HARD but a very good exercise if you feel confortable with concepts and the syntax)**\n",
    "- Refactor your code in order to get rid of all functions that are defined above the `if __name__ == '__main__'`. These functions will be put, in the end, in the new classes. In order to do it, you need to create several classes.\n",
    "\n",
    "**Refactoring definition:**\n",
    "\n",
    "\"In computer programming and software design, **code refactoring** is the process of restructuring existing computer code [...] without changing its external behavior.\" [Wikipedia](https://en.wikipedia.org/wiki/Code_refactoring) \n",
    "\n",
    "**<ins>Fourth step</ins> : draw conclusions**\n",
    "- What are the benefits/the desavantages of a such refactoring ? Write at least four bullets.\n",
    "\n",
    "**<ins>Fifth step</ins> : finalize some functions**\n",
    "- To finish the challenge, you have to **refactor** the function formerly called `announce_challengers()` and to fill in the function formely called `interview_challengers_podium()`.\n"
   ],
   "metadata": {
    "id": "_yEIJYr_57ef"
   },
   "id": "_yEIJYr_57ef"
  },
  {
   "cell_type": "code",
   "source": [],
   "metadata": {
    "id": "I7N7pQRf637s"
   },
   "id": "I7N7pQRf637s",
   "execution_count": null,
   "outputs": []
  },
  {
   "cell_type": "markdown",
   "source": [
    "## 5.Bonus Task: Extend the pet Clinic Example\n",
    "\n",
    "- Write out all the code in the examples above in your preferred python environment and verify that they work for you\n",
    "- Add the ability to specify an age of the pet to the `Pet` class\n",
    "- Create a list of 20 pets:\n",
    "  - 5 cats with different names and ages\n",
    "  - 5 dogs with different names and ages\n",
    "  - 5 turtles with different names and ages\n",
    "  - 5 birds with different names and ages\n",
    "- Update the `hello` method in the `Pet` class to also print the age of the pet\n",
    "- Using a for-loop, go through the list of 20 pets and for each pet with an even-numbered age, make the pet say hello!\n"
   ],
   "metadata": {
    "id": "p7u8rFkf67NU"
   },
   "id": "p7u8rFkf67NU"
  },
  {
   "cell_type": "code",
   "source": [],
   "metadata": {
    "id": "etAyvLVl7R70"
   },
   "id": "etAyvLVl7R70",
   "execution_count": null,
   "outputs": []
  },
  {
   "cell_type": "code",
   "source": [],
   "metadata": {
    "id": "y72FX7z47X1r"
   },
   "id": "y72FX7z47X1r",
   "execution_count": null,
   "outputs": []
  },
  {
   "cell_type": "markdown",
   "source": [
    "## 6. Bonus Task: Implement a REDI School Management System\n",
    "\n",
    "- Create a `School` class which represents all the different REDI school locations\n",
    "- Each school location will be an object of the `School` class\n",
    "- Create a `Course` class which represents all the different courses offered at REDI School\n",
    "- Each actual course will be an object of the `Course` class\n",
    "- Create a `Student` class which represents all the different students in a REDI School course\n",
    "- Each actual student will be an object of the `Student` class  \n",
    "- Each student object must have a name\n",
    "- Each course object must have a course name and a list of students\n",
    "- Each school object must have a location name and a list of courses  \n",
    "- Test your system by:\n",
    "  - Creating 3 REDI School objects representing the locatios in Germany\n",
    "  - Creating 1 course object representing a course offered at one of the schools (3 course objects in total)\n",
    "  - Creating students objects representing each of the students of the `Intro To CS` course."
   ],
   "metadata": {
    "id": "bj3RaXMs6-Pk"
   },
   "id": "bj3RaXMs6-Pk"
  },
  {
   "cell_type": "code",
   "source": [],
   "metadata": {
    "id": "6cIqMB4P7PL9"
   },
   "id": "6cIqMB4P7PL9",
   "execution_count": null,
   "outputs": []
  },
  {
   "cell_type": "code",
   "source": [
    "## Additional Resources\n",
    "\n",
    "- [Python Classes/Objects](https://www.w3schools.com/python/python_classes.asp)"
   ],
   "metadata": {
    "id": "GtseCoII7Dap"
   },
   "id": "GtseCoII7Dap",
   "execution_count": null,
   "outputs": []
  }
 ],
 "metadata": {
  "kernelspec": {
   "display_name": "Python 3.9.12 ('base': conda)",
   "language": "python",
   "name": "python3"
  },
  "language_info": {
   "codemirror_mode": {
    "name": "ipython",
    "version": 3
   },
   "file_extension": ".py",
   "mimetype": "text/x-python",
   "name": "python",
   "nbconvert_exporter": "python",
   "pygments_lexer": "ipython3",
   "version": "3.9.12"
  },
  "vscode": {
   "interpreter": {
    "hash": "2d63cf38a8ddc3101a2c0f32b71647b4096a78b8efd4c1bbcf73ffeaf57c27fa"
   }
  },
  "colab": {
   "provenance": []
  }
 },
 "nbformat": 4,
 "nbformat_minor": 5
}