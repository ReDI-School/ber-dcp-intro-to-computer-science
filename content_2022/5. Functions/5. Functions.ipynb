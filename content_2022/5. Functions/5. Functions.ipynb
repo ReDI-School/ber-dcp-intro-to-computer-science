{
 "cells": [
  {
   "cell_type": "markdown",
   "id": "7c7b2f7f-b6ba-443f-ba4b-45f938fbaaaf",
   "metadata": {
    "pycharm": {
     "name": "#%% md\n"
    }
   },
   "source": [
    "# 09 Nov - Functions\n",
    "\n",
    "\n",
    "![python gif](https://media.giphy.com/media/KAq5w47R9rmTuvWOWa/giphy.gif)\n",
    "\n",
    "## Pre Requisites\n",
    "\n",
    "None for today!\n",
    "\n",
    "---\n",
    "\n",
    "## Class Curriculum\n",
    "\n",
    "| Section content                             | Expected time (mins) | Pre - Requirements |\n",
    "| ------------------------------------------- | -------------------- | ------------------ |\n",
    "| Check-in and questions from last class & homework     | 10 minutes            | ❌                 |\n",
    "| Lesson Goals                                | 5 minutes            | ❌                 |\n",
    "| Python Functions                             | 30 - 45 minutes           | ❌                 |\n",
    "| Break                                       | 10 minutes           | ❌                 |\n",
    "| Hands-on Python Tasks  | 45 - 60 minutes        | ❌                 |\n",
    "| Check-out                                   | 5 minutes            | ❌                 |\n",
    "\n",
    "## Lesson Goal\n",
    "\n",
    "- Good understanding of Functions\n",
    "- Working on more complex Python exercises"
   ]
  },
  {
   "cell_type": "markdown",
   "id": "28913e4f-5bfc-4118-97e2-fe7b9d84c1bb",
   "metadata": {},
   "source": [
    "### Functions\n",
    "\n",
    "- What is a **function**?\n",
    "- A function lets us create a set of instructions that we can run when needed. Functions are essential in Python and in many other programming languages. They help us create meaningful programs, because they allow us to decompose a program into manageable parts, and they promote readability and code reuse.\n",
    "\n",
    "\n",
    "  ```python\n",
    "  def my_test_function(a):\n",
    "      return a\n",
    "  ```\n",
    "\n",
    "\n",
    "  A **function** is a sequence of steps or tasks (written in a block of code), which may or may not take in `argument`. Whenever we _call_ a function, we execute this defined set of steps (with any _arguments_ passed in). The above example function takes in some value and simply _returns_, or gives us back, this value when we _call_ it like so: `my_test_function(12) # evaluates to 12`\n",
    "\n",
    "\n",
    "    ```python\n",
    "    #1. print a string\n",
    "    print(\"hello word\")\n",
    "\n",
    "    #2. print a string via variable\n",
    "    a=\"hello word\"\n",
    "    print(a)\n",
    "\n",
    "    #3. print a string via function\n",
    "    def redi():\n",
    "        print(\"hello world\")\n",
    "    redi()\n",
    "    ```"
   ]
  },
  {
   "cell_type": "code",
   "execution_count": null,
   "id": "9f1eb808-bd5b-4bfe-95c4-392d9fa18444",
   "metadata": {},
   "outputs": [],
   "source": [
    "#1. print a string"
   ]
  },
  {
   "cell_type": "code",
   "execution_count": null,
   "id": "87250b9c-0053-481f-b0aa-2931bee623ec",
   "metadata": {},
   "outputs": [],
   "source": [
    "#2. print a string via variable"
   ]
  },
  {
   "cell_type": "code",
   "execution_count": null,
   "id": "c0506f42-0560-4170-80c3-7548126ff40a",
   "metadata": {},
   "outputs": [],
   "source": [
    "#3. print a string via function"
   ]
  },
  {
   "cell_type": "markdown",
   "id": "5d3f627a-66dd-40c1-a2ef-e60b8e95ec02",
   "metadata": {},
   "source": [
    "\n",
    "### Exercise 1: create and call a function that prints \"Hello, World!\"\n",
    "\n",
    "\n",
    "*Hint: Modify the code you wrote in the previous task so that this happens within a function that you define.*"
   ]
  },
  {
   "cell_type": "code",
   "execution_count": null,
   "id": "deb23002-2195-45cc-9260-3d8216fdb4f0",
   "metadata": {},
   "outputs": [],
   "source": []
  },
  {
   "cell_type": "markdown",
   "id": "ed823549-1783-45a0-baf0-1e00da23c021",
   "metadata": {},
   "source": [
    "### Exercise 2: create a function that returns the string \"Hello, World!\". Call this function and print the output."
   ]
  },
  {
   "cell_type": "code",
   "execution_count": null,
   "id": "18101663-eb54-4bf5-87fe-e44119246624",
   "metadata": {},
   "outputs": [],
   "source": []
  },
  {
   "cell_type": "markdown",
   "id": "1344d9e9-e9e8-460b-ba7b-c7a1f097fa45",
   "metadata": {},
   "source": [
    "### Exercise 3: modify your function so you can greet a specific name: \"Hello, Person\"\n",
    "\n",
    "In other words:\n",
    "\n",
    "```python\n",
    "greet(\"Nesli\")\n",
    "# expected output -> \"Hello, Nesli\"\n",
    "```\n"
   ]
  },
  {
   "cell_type": "code",
   "execution_count": null,
   "id": "3cfa243d-d895-4ebd-81ca-116853b55c1c",
   "metadata": {},
   "outputs": [],
   "source": []
  },
  {
   "cell_type": "markdown",
   "id": "4c6f82e9-71f4-439e-be5b-f5ab22ac1346",
   "metadata": {},
   "source": [
    "### Function terms\n",
    "\n",
    "There is a `def` keyword, so that the Python interpreter knows that this is a function `def`inition, function name (`greet`), arguments (`name` in this case), and a body (the set of instructions, which is the part that follows the colon and is indented one level on the left).\n",
    "\n",
    "To run this function, we must call it. This is the syntax to call the function: `greet('Nesli')`\n",
    "We can execute this function as many times as we want to.\n",
    "\n",
    "The name of the function, `greet`, is very important. It should be descriptive,\n",
    "so anyone calling it can imagine what the function does.\n",
    "\n",
    "#### Parameters or Arguments\n",
    "\n",
    "The terms `parameter` and `argument` can be used for the same thing: information that are passed into a function. \n",
    "\n",
    "**From a function's perspective:**\n",
    "\n",
    "A `parameter` is the variable listed inside the parentheses in the function definition.\n",
    "\n",
    "```py\n",
    "def greet(name):\n",
    "    print('Hello, ' + name)\n",
    "```\n",
    "Above `name` is a parameter.\n",
    "\n",
    "An `argument` is the value that is sent to the function when it is called.\n",
    "\n",
    "```py\n",
    "greet(\"Nesli\")\n",
    "```\n",
    "Above `Nesli` is an argument.\n",
    "\n",
    "**Number of Arguments**\n",
    "- You must call the function with the number of arguments that your function expects (number of parameters that you defined), **not less, not more!!**\n",
    "\n",
    "```py\n",
    "def full_name(firstname, lastname): #2 parameters\n",
    "    print(firstname + \" \" + lastname)\n",
    "\n",
    "full_name(\"Neslihan\", \"Keskin\") #2 arguments\n",
    "\n",
    "Output: \"Neslihan Keskin\"\n",
    "```"
   ]
  },
  {
   "cell_type": "markdown",
   "id": "e2302b1f-94f7-4f74-95f7-2f2d67bf03a0",
   "metadata": {},
   "source": [
    "### Exercise 4: \n",
    "- Write a Python function called max_of_two expects two integer returns the bigger number. \n"
   ]
  },
  {
   "cell_type": "code",
   "execution_count": null,
   "id": "76c65a75-890a-402c-b8d8-b8e08f913d88",
   "metadata": {},
   "outputs": [],
   "source": []
  },
  {
   "cell_type": "markdown",
   "id": "8b4c2de7-e742-4564-b5df-374a34ba2f4f",
   "metadata": {},
   "source": [
    "### Exercise 5: \n",
    "- Create a function called `your_age` that expects an `age` argument and returns \"you are young\" if age is less than 30, otherwise \"your sipirit is still young ;)\n",
    "\"\n",
    "- Call this function twice, once with the value less than 30 and once with higher than 30 and print the outputs of these calls.\n"
   ]
  },
  {
   "cell_type": "code",
   "execution_count": null,
   "id": "c21dc403-df92-43f7-b420-ea77962da33a",
   "metadata": {},
   "outputs": [],
   "source": []
  },
  {
   "cell_type": "markdown",
   "id": "0c7377a1-baab-4d68-801e-e56ce7187795",
   "metadata": {},
   "source": [
    "- Modify the function by using `input` ask user to enter an age and apply the same logic above."
   ]
  },
  {
   "cell_type": "code",
   "execution_count": null,
   "id": "4a292496-e730-4731-8139-463e13aafa38",
   "metadata": {},
   "outputs": [],
   "source": []
  },
  {
   "cell_type": "markdown",
   "id": "3e347548-1ceb-4cbd-acb5-de4330c5a470",
   "metadata": {},
   "source": [
    "### Exercise 6: create a function that return circle area by given its radius as an argument.\n",
    "\n",
    "*Hint:*\n",
    "Formula: **\" circle area = 3.14 * radius<sup>2</sup> \"**"
   ]
  },
  {
   "cell_type": "code",
   "execution_count": null,
   "id": "f21e0795-8cce-4308-90d9-82cec7d99863",
   "metadata": {},
   "outputs": [],
   "source": []
  },
  {
   "cell_type": "markdown",
   "id": "bfb7bda7-440e-4760-86ef-aa9103e239c4",
   "metadata": {},
   "source": [
    "### Exercise 7: function with for loop\n",
    "- Write a Python function to sum all the numbers in a list."
   ]
  },
  {
   "cell_type": "code",
   "execution_count": null,
   "id": "dedfccdc-0e0d-4b36-88cc-efd36688d504",
   "metadata": {},
   "outputs": [],
   "source": []
  },
  {
   "cell_type": "markdown",
   "id": "d7f034c6-23cb-4427-b0ab-3ea88c497769",
   "metadata": {},
   "source": [
    "### Extra materials \n",
    "\n",
    "https://www.w3schools.com/python/python_functions.asp"
   ]
  },
  {
   "cell_type": "code",
   "execution_count": null,
   "id": "a8bf4e8d-b648-41d0-9c48-afa7f9d85b59",
   "metadata": {},
   "outputs": [],
   "source": []
  }
 ],
 "metadata": {
  "kernelspec": {
   "display_name": "Python 3 (ipykernel)",
   "language": "python",
   "name": "python3"
  },
  "language_info": {
   "codemirror_mode": {
    "name": "ipython",
    "version": 3
   },
   "file_extension": ".py",
   "mimetype": "text/x-python",
   "name": "python",
   "nbconvert_exporter": "python",
   "pygments_lexer": "ipython3",
   "version": "3.9.7"
  },
  "vscode": {
   "interpreter": {
    "hash": "2d63cf38a8ddc3101a2c0f32b71647b4096a78b8efd4c1bbcf73ffeaf57c27fa"
   }
  }
 },
 "nbformat": 4,
 "nbformat_minor": 5
}
