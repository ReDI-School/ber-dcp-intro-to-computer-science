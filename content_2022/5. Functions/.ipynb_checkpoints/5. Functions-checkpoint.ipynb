{
 "cells": [
  {
   "cell_type": "markdown",
   "id": "7c7b2f7f-b6ba-443f-ba4b-45f938fbaaaf",
   "metadata": {
    "pycharm": {
     "name": "#%% md\n"
    }
   },
   "source": [
    "## Functions"
   ]
  }
 ],
 "metadata": {
  "kernelspec": {
   "display_name": "Python 3.9.12 ('base': conda)",
   "language": "python",
   "name": "python3"
  },
  "language_info": {
   "codemirror_mode": {
    "name": "ipython",
    "version": 3
   },
   "file_extension": ".py",
   "mimetype": "text/x-python",
   "name": "python",
   "nbconvert_exporter": "python",
   "pygments_lexer": "ipython3",
   "version": "3.9.12"
  },
  "vscode": {
   "interpreter": {
    "hash": "2d63cf38a8ddc3101a2c0f32b71647b4096a78b8efd4c1bbcf73ffeaf57c27fa"
   }
  }
 },
 "nbformat": 4,
 "nbformat_minor": 5
}