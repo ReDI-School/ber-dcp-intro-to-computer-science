{
 "cells": [
  {
   "cell_type": "markdown",
   "id": "9f3f67c0-5f0b-4788-8aff-f0c8149725d6",
   "metadata": {},
   "source": [
    "## Homework 3\n",
    "\n",
    "First 2 Tasks are about Conditional Logic from last lesson. You can do them as latest."
   ]
  },
  {
   "cell_type": "markdown",
   "id": "83ef0d51-4ea5-4391-96da-4bf78333e90e",
   "metadata": {},
   "source": [
    "### Task 1\n",
    "\n",
    "- Fix the Exercise 3 from last lesson so that it works correctly if the hour input is 1. For example, if the hour is bigger than 22 or smaller than 7, the program should consider it to be late and so young users should sleep and older users still can watch a movie. \n",
    "\n",
    "```python\n",
    "age = int(input('Enter your age:\\n'))\n",
    "\n",
    "hour = int(input('What is the hour? (0-24)\\n'))\n",
    "\n",
    "is_late = hour >= 22\n",
    "\n",
    "is_too_young = age <= 12\n",
    "\n",
    "if is_late:\n",
    "    if is_too_young:\n",
    "        print('You should be sleeping ...')\n",
    "    else:\n",
    "        print('Want to watch a movie?')\n",
    "else:\n",
    "    print('Go for a walk!')\n",
    "```"
   ]
  },
  {
   "cell_type": "code",
   "execution_count": 10,
   "id": "a45554c3-6cbd-4dd3-99d5-f0e9165218da",
   "metadata": {},
   "outputs": [
    {
     "name": "stdin",
     "output_type": "stream",
     "text": [
      "Enter your age:\n",
      " 25\n",
      "What is the hour? (0-24)\n",
      " 2\n"
     ]
    },
    {
     "name": "stdout",
     "output_type": "stream",
     "text": [
      "Want to watch a movie?\n"
     ]
    }
   ],
   "source": [
    "age = int(input('Enter your age:\\n'))\n",
    "hour = int(input('What is the hour? (0-24)\\n'))\n",
    "\n",
    "ranges = [*range(0,7),*range(22,24)]\n",
    "is_late = hour in ranges\n",
    "is_too_young = age <= 12\n",
    "\n",
    "if is_late:\n",
    "    if is_too_young:\n",
    "        print('You should be sleeping ...')\n",
    "    else:\n",
    "        print('Want to watch a movie?')\n",
    "else:\n",
    "    print('Go for a walk!')"
   ]
  },
  {
   "cell_type": "code",
   "execution_count": 11,
   "id": "fe2fb785-3ecf-4c80-90ca-a727fcf87945",
   "metadata": {},
   "outputs": [
    {
     "name": "stdin",
     "output_type": "stream",
     "text": [
      "Enter your age:\n",
      " 10\n",
      "What is the hour? (0-24)\n",
      " 2\n"
     ]
    },
    {
     "name": "stdout",
     "output_type": "stream",
     "text": [
      "You should be sleeping ...\n"
     ]
    }
   ],
   "source": [
    "#alternative solution\n",
    "\n",
    "age = int(input('Enter your age:\\n'))\n",
    "hour = int(input('What is the hour? (0-24)\\n'))\n",
    "\n",
    "is_early = hour in range(7,22)\n",
    "is_too_young = age <= 12\n",
    "\n",
    "if is_early:\n",
    "    print('Go for a walk!')    \n",
    "else:\n",
    "    if is_too_young:\n",
    "        print('You should be sleeping ...')\n",
    "    else:\n",
    "        print('Want to watch a movie?')"
   ]
  },
  {
   "cell_type": "markdown",
   "id": "9c9648a1-477e-43ec-aa4d-3e8659cc26a4",
   "metadata": {},
   "source": [
    "### Task 2\n",
    "- Reimplement the Exercise 3 from last lesson so that it doesn’t contain nested conditions, e.g. there is no if conditional inside another if conditional. It’s possible to do using if-elif-else construction and logical operators: or, and, not\n",
    "\n",
    "```python\n",
    "age = int(input('Enter your age:\\n'))\n",
    "\n",
    "hour = int(input('What is the hour? (0-24)\\n'))\n",
    "\n",
    "is_late = hour >= 22\n",
    "\n",
    "is_too_young = age <= 12\n",
    "\n",
    "if is_late:\n",
    "    if is_too_young:\n",
    "        print('You should be sleeping ...')\n",
    "    else:\n",
    "        print('Want to watch a movie?')\n",
    "else:\n",
    "    print('Go for a walk!')\n",
    "```"
   ]
  },
  {
   "cell_type": "code",
   "execution_count": 12,
   "id": "5aee1d51-5a68-4926-aa6e-9dad6f513778",
   "metadata": {},
   "outputs": [
    {
     "name": "stdin",
     "output_type": "stream",
     "text": [
      "Enter your age:\n",
      " 5\n",
      "What is the hour? (0-24)\n",
      " 4\n"
     ]
    },
    {
     "name": "stdout",
     "output_type": "stream",
     "text": [
      "You should be sleeping ...\n"
     ]
    }
   ],
   "source": [
    "#solution\n",
    "\n",
    "age = int(input('Enter your age:\\n'))\n",
    "hour = int(input('What is the hour? (0-24)\\n'))\n",
    "\n",
    "ranges = [*range(0,7),*range(22,24)]\n",
    "is_late = hour in ranges\n",
    "is_too_young = age <= 12\n",
    "\n",
    "if is_late and is_too_young:\n",
    "    print('You should be sleeping ...')\n",
    "elif is_late and not is_too_young:\n",
    "    print('Want to watch a movie?')\n",
    "else:\n",
    "    print('Go for a walk!')"
   ]
  },
  {
   "cell_type": "markdown",
   "id": "90af77f6-da81-4c45-94e6-af3d2240e30c",
   "metadata": {},
   "source": [
    "### Task 3\n",
    "Write a program which reads integer numbers from user’s input one by one and does the following: If the number is less than 10 - skip that number and read a new one If the number is bigger, than 100 - finish the program Otherwise - print the number in a new line and read a new number.\n",
    "\n",
    "\n",
    "\n",
    "Example:\n",
    "\n",
    "- Input: 12 4 2 58 112\n",
    "- Output: 12 58\n",
    "\n",
    "*Hint: use while*"
   ]
  },
  {
   "cell_type": "code",
   "execution_count": 13,
   "id": "ef3c2bfe-69c4-412b-94ae-40f24039aa23",
   "metadata": {},
   "outputs": [
    {
     "name": "stdin",
     "output_type": "stream",
     "text": [
      "Enter a number:  34\n"
     ]
    },
    {
     "name": "stdout",
     "output_type": "stream",
     "text": [
      "34\n"
     ]
    },
    {
     "name": "stdin",
     "output_type": "stream",
     "text": [
      "Enter a number:  56\n"
     ]
    },
    {
     "name": "stdout",
     "output_type": "stream",
     "text": [
      "56\n"
     ]
    },
    {
     "name": "stdin",
     "output_type": "stream",
     "text": [
      "Enter a number:  134\n"
     ]
    }
   ],
   "source": [
    "#solution\n",
    "while True:\n",
    "    number = int(input(\"Enter a number: \"))\n",
    "    if number in range(10,100):\n",
    "        print(number)\n",
    "    if number > 100:\n",
    "        break"
   ]
  },
  {
   "cell_type": "markdown",
   "id": "7ebd2944-cffe-40a2-9722-4ae660c96fbb",
   "metadata": {},
   "source": [
    "### Task 4\n",
    "Write a program which reads integer numbers from user’s input one by one until the sum of the given numbers is not 0. When the sum of the numbers is 0, program should print all the given numbers sorted and finish\n",
    "\n",
    "\n",
    "Example:\n",
    "\n",
    "- Input: 1 -3 5 -6 -10 13\n",
    "- Output: -10 -6 -3 1 5 13\n",
    "\n",
    "*Hint: use while*"
   ]
  },
  {
   "cell_type": "code",
   "execution_count": 14,
   "id": "06fa90d3-daf5-4699-b2ef-514d9ac9cce0",
   "metadata": {},
   "outputs": [
    {
     "name": "stdin",
     "output_type": "stream",
     "text": [
      "Enter number:  1\n",
      "Enter number:  -3\n",
      "Enter number:  5\n",
      "Enter number:  -6\n",
      "Enter number:  -10\n",
      "Enter number:  13\n"
     ]
    },
    {
     "name": "stdout",
     "output_type": "stream",
     "text": [
      "[-10, -6, -3, 1, 5, 13]\n"
     ]
    }
   ],
   "source": [
    "num_list= []\n",
    "total=0\n",
    "while True:\n",
    "    new_num=int(input('Enter number: ')) 1, -3, 5, -6, -10, 13\n",
    "    num_list.append(new_num)  #num_list=[1, -3, 5, -6, -10, 13]\n",
    "    total=total + new_num    #total= 1 + -3 --> -2 + 5 --> 3 + -6 --> -3 + -10 --> -13 +13 -->0\n",
    "    if total == 0:\n",
    "        break\n",
    "    num_list.sort() #num_list=[-10, -6, -3, 1, 5,13]\n",
    "print(num_list)"
   ]
  },
  {
   "cell_type": "markdown",
   "id": "afce873b-d971-4dee-ac69-1541dfb59390",
   "metadata": {},
   "source": [
    "### Task 5\n",
    "If we list all the natural numbers below 10 which are multiples of 3 or 5, we get 3, 5, 6 and 9. The sum of these multiples is 23. Write a program which finds the sum of all the multiples of 3 or 5 below 1000.\n",
    "\n",
    "*Hint: use for loop*"
   ]
  },
  {
   "cell_type": "code",
   "execution_count": 15,
   "id": "ca055b0b-10fa-4f11-96c9-994d9918af7a",
   "metadata": {},
   "outputs": [
    {
     "name": "stdout",
     "output_type": "stream",
     "text": [
      "233168\n"
     ]
    }
   ],
   "source": [
    "#solution\n",
    "sumofmultiples=0\n",
    "for i in range(0,1000):\n",
    "    if(i%3==0 or i%5==0):\n",
    "        sumofmultiples=sumofmultiples+i\n",
    "print(sumofmultiples)"
   ]
  },
  {
   "cell_type": "markdown",
   "id": "bf78ef47-7558-4b58-a0d7-2f93d69dfda7",
   "metadata": {},
   "source": [
    "### Task 6\n",
    "Write a Python program which iterates the integers from 1 to 50. For multiples of three print \"Fizz\" instead of the number and for the multiples of five print \"Buzz\". For numbers which are multiples of both three and five print \"FizzBuzz\".\n",
    "*Hint: use for loop, range, if and continue"
   ]
  },
  {
   "cell_type": "code",
   "execution_count": 6,
   "id": "0ab66358-a4ac-4366-b208-d88fc3fb665c",
   "metadata": {},
   "outputs": [
    {
     "name": "stdout",
     "output_type": "stream",
     "text": [
      "fizzbuzz 0\n",
      "1\n",
      "2\n",
      "fizz 3\n",
      "4\n",
      "buzz 5\n",
      "fizz 6\n",
      "7\n",
      "8\n",
      "fizz 9\n",
      "buzz 10\n",
      "11\n",
      "fizz 12\n",
      "13\n",
      "14\n",
      "fizzbuzz 15\n",
      "16\n",
      "17\n",
      "fizz 18\n",
      "19\n",
      "buzz 20\n",
      "fizz 21\n",
      "22\n",
      "23\n",
      "fizz 24\n",
      "buzz 25\n",
      "26\n",
      "fizz 27\n",
      "28\n",
      "29\n",
      "fizzbuzz 30\n",
      "31\n",
      "32\n",
      "fizz 33\n",
      "34\n",
      "buzz 35\n",
      "fizz 36\n",
      "37\n",
      "38\n",
      "fizz 39\n",
      "buzz 40\n",
      "41\n",
      "fizz 42\n",
      "43\n",
      "44\n",
      "fizzbuzz 45\n",
      "46\n",
      "47\n",
      "fizz 48\n",
      "49\n",
      "buzz 50\n"
     ]
    }
   ],
   "source": [
    "for fizzbuzz in range(51):\n",
    "    if fizzbuzz % 3 == 0 and fizzbuzz % 5 == 0:\n",
    "        print(\"fizzbuzz\", fizzbuzz)\n",
    "    elif fizzbuzz % 3 == 0:\n",
    "        print(\"fizz\", fizzbuzz)\n",
    "    elif fizzbuzz % 5 == 0:\n",
    "        print(\"buzz\", fizzbuzz)\n",
    "    else:\n",
    "        print(fizzbuzz)"
   ]
  },
  {
   "cell_type": "markdown",
   "id": "8d9ec810-321c-4eb1-befa-41b69e84c1cc",
   "metadata": {},
   "source": [
    "### Task 7\n",
    "Write a program which asks user for a comma-separated sequence of numbers (see hint section to understand, how to create a list out of it) and prints for each element of that sequence sum of the previous element and the next element. Previous element for the first element is the last element. Next element for the last element is the first element. If user entered only one number, the program should print that number.\n",
    "\n",
    "Example:\n",
    "\n",
    "Input: 1,3,5,6,10\n",
    "\n",
    "Output: 13 6 9 15 7\n",
    "\n",
    "*Hint:\n",
    "use for loop and if condition*\n",
    "\n",
    "How to read a list from user as input:\n",
    "```python\n",
    "list_numbers = list(eval(input('Enter a list of numbers\\n')))\n",
    "print(list_numbers)\n",
    "```"
   ]
  },
  {
   "cell_type": "code",
   "execution_count": 29,
   "id": "f9573439-467e-4e7f-921a-3fd28ef2fbd0",
   "metadata": {},
   "outputs": [
    {
     "name": "stdin",
     "output_type": "stream",
     "text": [
      "Enter a list of numbers\n",
      " 5,\n"
     ]
    },
    {
     "data": {
      "text/plain": [
       "[5]"
      ]
     },
     "execution_count": 29,
     "metadata": {},
     "output_type": "execute_result"
    }
   ],
   "source": [
    "# solution\n",
    "numbers = list(eval(input('Enter a list of numbers\\n')))\n",
    "output_list=[]\n",
    "j=0\n",
    "for i in range(len(numbers)):\n",
    "    if len(numbers)==1:\n",
    "        j=numbers[i]\n",
    "    elif i == 0: #first element\n",
    "        j= numbers[-1] + numbers[i+1]\n",
    "    elif i == len(numbers)-1:\n",
    "        j=numbers[i-1] + numbers[0] #last element\n",
    "    else:\n",
    "        j=numbers[i - 1] + numbers[i + 1] #rest\n",
    "    output_list.append(j)\n",
    "output_list "
   ]
  },
  {
   "cell_type": "code",
   "execution_count": 12,
   "id": "8a6ffd8e-00cb-4243-a276-20fc78f43600",
   "metadata": {},
   "outputs": [
    {
     "name": "stdin",
     "output_type": "stream",
     "text": [
      "Enter a list of strings: nesli, sgdfg, dgf\n"
     ]
    },
    {
     "name": "stdout",
     "output_type": "stream",
     "text": [
      "['nesli', 'sgdfg', 'dgf']\n"
     ]
    }
   ],
   "source": [
    "words = list(input('Enter a list of strings:').split(', '))\n",
    "print(words)"
   ]
  },
  {
   "cell_type": "code",
   "execution_count": null,
   "id": "2394d5c9-3855-4a61-8a24-8d248145b4dd",
   "metadata": {},
   "outputs": [],
   "source": [
    "#for i in range(3): ---> i= 0,1,2\n",
    "#first iteration i=0\n",
    "#j=3+4 --> j=7\n",
    "#second iteration i=1\n",
    "#j=2+3 -- > j=5\n",
    "#third iteration i=2\n",
    "#j=4+2 -->j=6\n",
    "#j=[7,5,6]"
   ]
  }
 ],
 "metadata": {
  "kernelspec": {
   "display_name": "Python 3 (ipykernel)",
   "language": "python",
   "name": "python3"
  },
  "language_info": {
   "codemirror_mode": {
    "name": "ipython",
    "version": 3
   },
   "file_extension": ".py",
   "mimetype": "text/x-python",
   "name": "python",
   "nbconvert_exporter": "python",
   "pygments_lexer": "ipython3",
   "version": "3.9.7"
  }
 },
 "nbformat": 4,
 "nbformat_minor": 5
}
